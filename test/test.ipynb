{
 "cells": [
  {
   "metadata": {},
   "cell_type": "markdown",
   "source": "## Import needed packages",
   "id": "5fe67d248445e641"
  },
  {
   "metadata": {
    "ExecuteTime": {
     "end_time": "2025-04-07T06:42:38.454637Z",
     "start_time": "2025-04-07T06:42:36.906234Z"
    }
   },
   "cell_type": "code",
   "source": [
    "import torch\n",
    "import torch.nn as nn\n",
    "import torch.optim as optim\n",
    "from torch.utils.data import DataLoader\n",
    "from torchvision import datasets,transforms\n",
    "import matplotlib.pyplot as plt\n",
    "import seaborn as sns\n",
    "import matplotlib.pyplot as plt\n",
    "from sklearn.metrics import confusion_matrix\n",
    "import numpy as np"
   ],
   "id": "a3cd318356116dcc",
   "outputs": [],
   "execution_count": 1
  },
  {
   "metadata": {},
   "cell_type": "markdown",
   "source": "## Hyperparameter\n",
   "id": "86d55abf11fb6047"
  },
  {
   "metadata": {
    "ExecuteTime": {
     "end_time": "2025-04-07T06:42:40.213239Z",
     "start_time": "2025-04-07T06:42:38.462764Z"
    }
   },
   "cell_type": "code",
   "source": [
    "config = {\n",
    "    \"device\": torch.device(\"cuda\" if torch.cuda.is_available() else \"cpu\"),\n",
    "    \"batch_size\" : 64,\n",
    "    \"learning_rate\" : 0.01 ,\n",
    "    \"epochs\":15,\n",
    "}"
   ],
   "id": "1f0c96a64c96a6c2",
   "outputs": [],
   "execution_count": 2
  },
  {
   "metadata": {},
   "cell_type": "markdown",
   "source": "## Dataloader",
   "id": "e306ddf1150228fb"
  },
  {
   "metadata": {
    "ExecuteTime": {
     "end_time": "2025-04-07T06:42:40.580908Z",
     "start_time": "2025-04-07T06:42:40.514310Z"
    }
   },
   "cell_type": "code",
   "source": [
    "transform = transforms.Compose([\n",
    "    transforms.ToTensor(),\n",
    "    transforms.Normalize((0.5,), (0.5,))\n",
    "])\n",
    "\n",
    "train_dataset = datasets.MNIST(root=\"./data\", train=True, transform=transform, download=True)\n",
    "test_dataset = datasets.MNIST(root=\"./data\", train=False, transform=transform, download=True)\n",
    "train_loader = DataLoader(train_dataset, batch_size=config[\"batch_size\"], shuffle=True)\n",
    "test_loader = DataLoader(test_dataset, batch_size=config[\"batch_size\"], shuffle=True)"
   ],
   "id": "20c859d7f3a9d937",
   "outputs": [],
   "execution_count": 3
  },
  {
   "metadata": {},
   "cell_type": "markdown",
   "source": "## Visualize\n",
   "id": "7a3f4c1c5ef437cd"
  },
  {
   "metadata": {
    "ExecuteTime": {
     "end_time": "2025-04-07T06:42:41.155635Z",
     "start_time": "2025-04-07T06:42:40.589633Z"
    }
   },
   "cell_type": "code",
   "source": [
    "examples = iter(train_loader)\n",
    "images, labels = next(examples)\n",
    "\n",
    "plt.figure(figsize=(10,10))\n",
    "for i in range(16):\n",
    "    plt.subplot(4, 4, i+1)\n",
    "    plt.imshow(images[i][0], cmap='gray')\n",
    "    # plt.title(f\"Label: {labels[i].item()}\")\n",
    "    plt.title(f\"label:{labels[i]}\")\n",
    "    plt.axis('off')\n",
    "plt.show()\n"
   ],
   "id": "e84ec92271f1fad5",
   "outputs": [
    {
     "data": {
      "text/plain": [
       "<Figure size 1000x1000 with 16 Axes>"
      ],
      "image/png": "[encoded data removed]"
     },
     "metadata": {},
     "output_type": "display_data"
    }
   ],
   "execution_count": 4
  },
  {
   "metadata": {},
   "cell_type": "markdown",
   "source": "## Model\n",
   "id": "14376f7c9f42ca9f"
  },
  {
   "metadata": {
    "ExecuteTime": {
     "end_time": "2025-04-07T06:42:41.789321Z",
     "start_time": "2025-04-07T06:42:41.180999Z"
    }
   },
   "cell_type": "code",
   "source": [
    "import torch.nn as nn\n",
    "\n",
    "class SimpleNN(nn.Module):\n",
    "    def __init__(self):\n",
    "        super(SimpleNN, self).__init__()\n",
    "        self.model = nn.Sequential(\n",
    "            nn.Flatten(),                                 # 展平 28x28 图像\n",
    "            nn.Linear(28*28, 512),                        # 输入层\n",
    "            nn.BatchNorm1d(512),                          # 批归一化\n",
    "            nn.LeakyReLU(0.1),                            # LeakyReLU 防止死神经元\n",
    "            nn.Dropout(0.3),                              # Dropout 防止过拟合\n",
    "\n",
    "            nn.Linear(512, 256),                          # 中间层1\n",
    "            nn.BatchNorm1d(256),\n",
    "            nn.LeakyReLU(0.1),\n",
    "            nn.Dropout(0.3),\n",
    "\n",
    "            nn.Linear(256, 128),                          # 中间层2\n",
    "            nn.BatchNorm1d(128),\n",
    "            nn.LeakyReLU(0.1),\n",
    "            nn.Dropout(0.3),\n",
    "\n",
    "            nn.Linear(128, 10),                           # 输出层\n",
    "        )\n",
    "\n",
    "    def forward(self, x):\n",
    "        return self.model(x)\n",
    "\n",
    "model = SimpleNN().to(config[\"device\"])\n"
   ],
   "id": "922ce656bc8b0288",
   "outputs": [],
   "execution_count": 5
  },
  {
   "metadata": {},
   "cell_type": "markdown",
   "source": "## Loss Function and Optimizer",
   "id": "587b7d94024bf762"
  },
  {
   "metadata": {
    "ExecuteTime": {
     "end_time": "2025-04-07T06:42:41.813665Z",
     "start_time": "2025-04-07T06:42:41.806343Z"
    }
   },
   "cell_type": "code",
   "source": [
    "criterion = nn.CrossEntropyLoss()\n",
    "optimizer = optim.Adam(model.parameters(), lr=config[\"learning_rate\"])"
   ],
   "id": "1ff40abcf4489314",
   "outputs": [],
   "execution_count": 6
  },
  {
   "metadata": {},
   "cell_type": "markdown",
   "source": "## Trainig loop",
   "id": "d326aac5682052e"
  },
  {
   "metadata": {
    "ExecuteTime": {
     "end_time": "2025-04-07T07:00:26.510191Z",
     "start_time": "2025-04-07T06:57:05.892798Z"
    }
   },
   "cell_type": "code",
   "source": [
    "from tqdm import tqdm\n",
    "\n",
    "best_acc = 0.0  # 当前最优准确率\n",
    "\n",
    "for epoch in range(config[\"epochs\"]):\n",
    "    total_loss = 0.0\n",
    "    model.train()\n",
    "\n",
    "    print(f\"\\n🔄 Epoch {epoch+1}/{config['epochs']}\")\n",
    "    train_bar = tqdm(train_loader, desc=\"Training\", dynamic_ncols=True, leave=False)\n",
    "\n",
    "    for images, labels in train_bar:\n",
    "        images, labels = images.to(config[\"device\"]), labels.to(config[\"device\"])\n",
    "\n",
    "        outputs = model(images)\n",
    "        loss = criterion(outputs, labels)\n",
    "\n",
    "        optimizer.zero_grad()\n",
    "        loss.backward()\n",
    "        optimizer.step()\n",
    "\n",
    "        total_loss += loss.item()\n",
    "        train_bar.set_postfix(loss=loss.item())\n",
    "\n",
    "    avg_loss = total_loss / len(train_loader)\n",
    "    print(f\"✅ Epoch {epoch+1} finished. Average Loss: {avg_loss:.4f}\")\n",
    "\n",
    "    # =============== 验证集评估（可用 test_loader） ===============\n",
    "    model.eval()\n",
    "    total = 0\n",
    "    correct = 0\n",
    "    with torch.no_grad():\n",
    "        for images, labels in test_loader:\n",
    "            images, labels = images.to(config[\"device\"]), labels.to(config[\"device\"])\n",
    "            outputs = model(images)\n",
    "            _, predicted = torch.max(outputs, 1)\n",
    "            total += labels.size(0)\n",
    "            correct += (predicted == labels).sum().item()\n",
    "\n",
    "    acc = correct / total\n",
    "    print(f\"📊 Test Accuracy after Epoch {epoch+1}: {acc*100:.2f}%\")\n",
    "\n",
    "    # =============== 保存最好的模型 ===============\n",
    "    if acc > best_acc:\n",
    "        best_acc = acc\n",
    "        torch.save(model.state_dict(), \"best_model.pth\")\n",
    "        print(\"💾 Saved new best model!\")\n",
    "\n",
    "print(f\"\\n🏁 Training done. Best Accuracy: {best_acc*100:.2f}%\")\n"
   ],
   "id": "4211cc6369d3b327",
   "outputs": [
    {
     "name": "stdout",
     "output_type": "stream",
     "text": [
      "\n",
      "🔄 Epoch 1/15\n"
     ]
    },
    {
     "name": "stderr",
     "output_type": "stream",
     "text": [
      "                                                                         \r"
     ]
    },
    {
     "name": "stdout",
     "output_type": "stream",
     "text": [
      "✅ Epoch 1 finished. Average Loss: 0.0635\n",
      "📊 Test Accuracy after Epoch 1: 98.14%\n",
      "💾 Saved new best model!\n",
      "\n",
      "🔄 Epoch 2/15\n"
     ]
    },
    {
     "name": "stderr",
     "output_type": "stream",
     "text": [
      "                                                                         \r"
     ]
    },
    {
     "name": "stdout",
     "output_type": "stream",
     "text": [
      "✅ Epoch 2 finished. Average Loss: 0.0595\n",
      "📊 Test Accuracy after Epoch 2: 98.27%\n",
      "💾 Saved new best model!\n",
      "\n",
      "🔄 Epoch 3/15\n"
     ]
    },
    {
     "name": "stderr",
     "output_type": "stream",
     "text": [
      "                                                                         \r"
     ]
    },
    {
     "name": "stdout",
     "output_type": "stream",
     "text": [
      "✅ Epoch 3 finished. Average Loss: 0.0608\n",
      "📊 Test Accuracy after Epoch 3: 98.37%\n",
      "💾 Saved new best model!\n",
      "\n",
      "🔄 Epoch 4/15\n"
     ]
    },
    {
     "name": "stderr",
     "output_type": "stream",
     "text": [
      "                                                                          \r"
     ]
    },
    {
     "name": "stdout",
     "output_type": "stream",
     "text": [
      "✅ Epoch 4 finished. Average Loss: 0.0583\n",
      "📊 Test Accuracy after Epoch 4: 98.19%\n",
      "\n",
      "🔄 Epoch 5/15\n"
     ]
    },
    {
     "name": "stderr",
     "output_type": "stream",
     "text": [
      "                                                                          \r"
     ]
    },
    {
     "name": "stdout",
     "output_type": "stream",
     "text": [
      "✅ Epoch 5 finished. Average Loss: 0.0542\n",
      "📊 Test Accuracy after Epoch 5: 98.28%\n",
      "\n",
      "🔄 Epoch 6/15\n"
     ]
    },
    {
     "name": "stderr",
     "output_type": "stream",
     "text": [
      "                                                                          \r"
     ]
    },
    {
     "name": "stdout",
     "output_type": "stream",
     "text": [
      "✅ Epoch 6 finished. Average Loss: 0.0550\n",
      "📊 Test Accuracy after Epoch 6: 98.42%\n",
      "💾 Saved new best model!\n",
      "\n",
      "🔄 Epoch 7/15\n"
     ]
    },
    {
     "name": "stderr",
     "output_type": "stream",
     "text": [
      "                                                                          \r"
     ]
    },
    {
     "name": "stdout",
     "output_type": "stream",
     "text": [
      "✅ Epoch 7 finished. Average Loss: 0.0524\n",
      "📊 Test Accuracy after Epoch 7: 98.39%\n",
      "\n",
      "🔄 Epoch 8/15\n"
     ]
    },
    {
     "name": "stderr",
     "output_type": "stream",
     "text": [
      "                                                                          \r"
     ]
    },
    {
     "name": "stdout",
     "output_type": "stream",
     "text": [
      "✅ Epoch 8 finished. Average Loss: 0.0492\n",
      "📊 Test Accuracy after Epoch 8: 98.18%\n",
      "\n",
      "🔄 Epoch 9/15\n"
     ]
    },
    {
     "name": "stderr",
     "output_type": "stream",
     "text": [
      "                                                                          \r"
     ]
    },
    {
     "name": "stdout",
     "output_type": "stream",
     "text": [
      "✅ Epoch 9 finished. Average Loss: 0.0515\n",
      "📊 Test Accuracy after Epoch 9: 98.52%\n",
      "💾 Saved new best model!\n",
      "\n",
      "🔄 Epoch 10/15\n"
     ]
    },
    {
     "name": "stderr",
     "output_type": "stream",
     "text": [
      "                                                                          \r"
     ]
    },
    {
     "name": "stdout",
     "output_type": "stream",
     "text": [
      "✅ Epoch 10 finished. Average Loss: 0.0482\n",
      "📊 Test Accuracy after Epoch 10: 98.28%\n",
      "\n",
      "🔄 Epoch 11/15\n"
     ]
    },
    {
     "name": "stderr",
     "output_type": "stream",
     "text": [
      "                                                                          \r"
     ]
    },
    {
     "name": "stdout",
     "output_type": "stream",
     "text": [
      "✅ Epoch 11 finished. Average Loss: 0.0460\n",
      "📊 Test Accuracy after Epoch 11: 98.18%\n",
      "\n",
      "🔄 Epoch 12/15\n"
     ]
    },
    {
     "name": "stderr",
     "output_type": "stream",
     "text": [
      "                                                                          \r"
     ]
    },
    {
     "name": "stdout",
     "output_type": "stream",
     "text": [
      "✅ Epoch 12 finished. Average Loss: 0.0491\n",
      "📊 Test Accuracy after Epoch 12: 98.15%\n",
      "\n",
      "🔄 Epoch 13/15\n"
     ]
    },
    {
     "name": "stderr",
     "output_type": "stream",
     "text": [
      "                                                                          \r"
     ]
    },
    {
     "name": "stdout",
     "output_type": "stream",
     "text": [
      "✅ Epoch 13 finished. Average Loss: 0.0449\n",
      "📊 Test Accuracy after Epoch 13: 98.22%\n",
      "\n",
      "🔄 Epoch 14/15\n"
     ]
    },
    {
     "name": "stderr",
     "output_type": "stream",
     "text": [
      "                                                                          \r"
     ]
    },
    {
     "name": "stdout",
     "output_type": "stream",
     "text": [
      "✅ Epoch 14 finished. Average Loss: 0.0438\n",
      "📊 Test Accuracy after Epoch 14: 98.41%\n",
      "\n",
      "🔄 Epoch 15/15\n"
     ]
    },
    {
     "name": "stderr",
     "output_type": "stream",
     "text": [
      "                                                                          \r"
     ]
    },
    {
     "name": "stdout",
     "output_type": "stream",
     "text": [
      "✅ Epoch 15 finished. Average Loss: 0.0433\n",
      "📊 Test Accuracy after Epoch 15: 98.42%\n",
      "\n",
      "🏁 Training done. Best Accuracy: 98.52%\n"
     ]
    }
   ],
   "execution_count": 12
  },
  {
   "metadata": {},
   "cell_type": "markdown",
   "source": "## Testing",
   "id": "f958bb3e4abea1e0"
  },
  {
   "metadata": {
    "ExecuteTime": {
     "end_time": "2025-04-07T07:00:35.101593Z",
     "start_time": "2025-04-07T07:00:34.005215Z"
    }
   },
   "cell_type": "code",
   "source": [
    "with torch.no_grad():\n",
    "    total = 0\n",
    "    correct = 0\n",
    "    model.eval()\n",
    "    for images, labels in tqdm(test_loader, desc=\"Testing\", dynamic_ncols=True, leave=False):\n",
    "        images, labels = images.to(config[\"device\"]),labels.to(config[\"device\"])\n",
    "        outputs = model(images)\n",
    "        _, predicted = torch.max(outputs.data, 1)\n",
    "        total += labels.size(0)\n",
    "        correct += (predicted == labels).sum().item()\n",
    "\n",
    "    print(f\"Test Accuracy: {100 * correct / total:.2f}%\")"
   ],
   "id": "68cbdd0b0c9dbc2e",
   "outputs": [
    {
     "name": "stderr",
     "output_type": "stream",
     "text": [
      "                                                           "
     ]
    },
    {
     "name": "stdout",
     "output_type": "stream",
     "text": [
      "Test Accuracy: 98.42%\n"
     ]
    },
    {
     "name": "stderr",
     "output_type": "stream",
     "text": [
      "\r"
     ]
    }
   ],
   "execution_count": 13
  },
  {
   "metadata": {},
   "cell_type": "markdown",
   "source": "## Saving Model",
   "id": "cc722e35d6b1cf82"
  },
  {
   "metadata": {
    "ExecuteTime": {
     "end_time": "2025-04-07T07:00:38.516580Z",
     "start_time": "2025-04-07T07:00:38.493766Z"
    }
   },
   "cell_type": "code",
   "source": "torch.save(model.state_dict(), \"model.pth\")",
   "id": "7c4e50827e3c022d",
   "outputs": [],
   "execution_count": 14
  },
  {
   "metadata": {},
   "cell_type": "markdown",
   "source": "## Load Model and Predict",
   "id": "55fd14e9d711ff00"
  },
  {
   "metadata": {
    "ExecuteTime": {
     "end_time": "2025-04-07T07:00:41.492809Z",
     "start_time": "2025-04-07T07:00:41.468354Z"
    }
   },
   "cell_type": "code",
   "source": [
    "model.load_state_dict(torch.load(\"model.pth\"))\n",
    "model.eval()\n",
    "\n",
    "images, labels = next(iter(test_loader))\n",
    "images, labels = images.to(config[\"device\"]),labels.to(config[\"device\"])\n",
    "outputs = model(images)\n",
    "_, predicted = torch.max(outputs.data, 1)\n",
    "print(f\"Test Accuracy: {100 * correct / total:.2f}%\")"
   ],
   "id": "a3208681840e8ff5",
   "outputs": [
    {
     "name": "stdout",
     "output_type": "stream",
     "text": [
      "Test Accuracy: 98.42%\n"
     ]
    }
   ],
   "execution_count": 15
  },
  {
   "metadata": {},
   "cell_type": "markdown",
   "source": "## Visualize",
   "id": "95449dd7ddd07c58"
  },
  {
   "metadata": {
    "ExecuteTime": {
     "end_time": "2025-04-07T07:00:46.226730Z",
     "start_time": "2025-04-07T07:00:44.968356Z"
    }
   },
   "cell_type": "code",
   "source": [
    "model.eval()\n",
    "\n",
    "all_preds = []\n",
    "all_labels = []\n",
    "\n",
    "with torch.no_grad():\n",
    "    for images, labels in test_loader:\n",
    "        images, labels = images.to(config[\"device\"]), labels.to(config[\"device\"])\n",
    "        outputs = model(images)\n",
    "        _, preds = torch.max(outputs, 1)\n",
    "\n",
    "        all_preds.extend(preds.cpu().numpy())\n",
    "        all_labels.extend(labels.cpu().numpy())\n",
    "\n",
    "# calculate\n",
    "cm = confusion_matrix(all_labels, all_preds)\n",
    "\n",
    "# Visualize\n",
    "plt.figure(figsize=(20, 20))\n",
    "sns.heatmap(cm, annot=True, fmt=\"d\", cmap=\"Blues\", xticklabels=range(10), yticklabels=range(10))\n",
    "plt.xlabel(\"Predicted Label\")\n",
    "plt.ylabel(\"True Label\")\n",
    "plt.title(\"Confusion Matrix\")\n",
    "plt.show()\n"
   ],
   "id": "13c2a73b06fd21b9",
   "outputs": [
    {
     "data": {
      "text/plain": [
       "<Figure size 2000x2000 with 2 Axes>"
      ],
      "image/png": "[encoded data removed]"
     },
     "metadata": {},
     "output_type": "display_data"
    }
   ],
   "execution_count": 16
  }
 ],
 "metadata": {
  "kernelspec": {
   "display_name": "Python 3",
   "language": "python",
   "name": "python3"
  },
  "language_info": {
   "codemirror_mode": {
    "name": "ipython",
    "version": 2
   },
   "file_extension": ".py",
   "mimetype": "text/x-python",
   "name": "python",
   "nbconvert_exporter": "python",
   "pygments_lexer": "ipython2",
   "version": "2.7.6"
  }
 },
 "nbformat": 4,
 "nbformat_minor": 5
}
