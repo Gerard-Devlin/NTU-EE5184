{
 "cells": [
  {
   "metadata": {},
   "cell_type": "markdown",
   "source": "# Import packages",
   "id": "16a3b4a646e328c0"
  },
  {
   "metadata": {
    "ExecuteTime": {
     "end_time": "2025-04-10T14:18:04.057337Z",
     "start_time": "2025-04-10T14:18:02.765786Z"
    }
   },
   "cell_type": "code",
   "source": [
    "# Numerical Operations\n",
    "import math\n",
    "import numpy as np\n",
    "\n",
    "# Reading/Writing Data\n",
    "import pandas as pd\n",
    "import os\n",
    "import csv\n",
    "\n",
    "# For Progress Bar\n",
    "from tqdm import tqdm\n",
    "\n",
    "# Pytorch\n",
    "import torch\n",
    "import torch.nn as nn\n",
    "from torch.utils.data import Dataset, DataLoader, random_split\n",
    "\n",
    "# For plotting learning curve\n",
    "from torch.utils.tensorboard import SummaryWriter\n",
    "\n",
    "# Drawing\n",
    "import matplotlib.pyplot as plt"
   ],
   "id": "ddfacbe22026fd7e",
   "outputs": [],
   "execution_count": 1
  },
  {
   "metadata": {
    "ExecuteTime": {
     "end_time": "2025-04-10T14:18:04.857716Z",
     "start_time": "2025-04-10T14:18:04.067755Z"
    }
   },
   "cell_type": "code",
   "source": [
    "df = pd.read_csv('train.csv')\n",
    "\n",
    "grouped_1 = df.groupby('Publication_Day')['Host_Popularity_percentage'].sum()\n",
    "\n",
    "# bar\n",
    "plt.figure(figsize=(8, 3))\n",
    "grouped_1.plot(kind='bar', color='skyblue')\n",
    "plt.xlabel('Publication Day')\n",
    "plt.ylabel(' Host Popularity ')\n",
    "plt.title('Publication Day')\n",
    "plt.grid(axis='y')\n",
    "plt.tight_layout()\n",
    "plt.show()\n"
   ],
   "id": "93b357d301ae2dbc",
   "outputs": [
    {
     "data": {
      "text/plain": [
       "<Figure size 800x300 with 1 Axes>"
      ],
      "image/png": "[encoded data removed]"
     },
     "metadata": {},
     "output_type": "display_data"
    }
   ],
   "execution_count": 2
  },
  {
   "metadata": {
    "ExecuteTime": {
     "end_time": "2025-04-10T14:18:05.023747Z",
     "start_time": "2025-04-10T14:18:05.009594Z"
    }
   },
   "cell_type": "code",
   "source": "df",
   "id": "98f2279eb6821a1c",
   "outputs": [
    {
     "data": {
      "text/plain": [
       "            id      Podcast_Name Episode_Title  Episode_Length_minutes  \\\n",
       "0            0   Mystery Matters    Episode 98                     NaN   \n",
       "1            1     Joke Junction    Episode 26                  119.80   \n",
       "2            2    Study Sessions    Episode 16                   73.90   \n",
       "3            3    Digital Digest    Episode 45                   67.17   \n",
       "4            4       Mind & Body    Episode 86                  110.51   \n",
       "...        ...               ...           ...                     ...   \n",
       "749995  749995      Learning Lab    Episode 25                   75.66   \n",
       "749996  749996   Business Briefs    Episode 21                   75.75   \n",
       "749997  749997  Lifestyle Lounge    Episode 51                   30.98   \n",
       "749998  749998       Style Guide    Episode 47                  108.98   \n",
       "749999  749999    Sports Central    Episode 99                   24.10   \n",
       "\n",
       "             Genre  Host_Popularity_percentage Publication_Day  \\\n",
       "0       True Crime                       74.81        Thursday   \n",
       "1           Comedy                       66.95        Saturday   \n",
       "2        Education                       69.97         Tuesday   \n",
       "3       Technology                       57.22          Monday   \n",
       "4           Health                       80.07          Monday   \n",
       "...            ...                         ...             ...   \n",
       "749995   Education                       69.36        Saturday   \n",
       "749996    Business                       35.21        Saturday   \n",
       "749997   Lifestyle                       78.58        Thursday   \n",
       "749998   Lifestyle                       45.39        Thursday   \n",
       "749999      Sports                       22.45        Saturday   \n",
       "\n",
       "       Publication_Time  Guest_Popularity_percentage  Number_of_Ads  \\\n",
       "0                 Night                          NaN            0.0   \n",
       "1             Afternoon                        75.95            2.0   \n",
       "2               Evening                         8.97            0.0   \n",
       "3               Morning                        78.70            2.0   \n",
       "4             Afternoon                        58.68            3.0   \n",
       "...                 ...                          ...            ...   \n",
       "749995          Morning                          NaN            0.0   \n",
       "749996            Night                          NaN            2.0   \n",
       "749997          Morning                        84.89            0.0   \n",
       "749998          Morning                        93.27            0.0   \n",
       "749999            Night                        36.72            0.0   \n",
       "\n",
       "       Episode_Sentiment  Listening_Time_minutes  \n",
       "0               Positive                31.41998  \n",
       "1               Negative                88.01241  \n",
       "2               Negative                44.92531  \n",
       "3               Positive                46.27824  \n",
       "4                Neutral                75.61031  \n",
       "...                  ...                     ...  \n",
       "749995          Negative                56.87058  \n",
       "749996           Neutral                45.46242  \n",
       "749997          Negative                15.26000  \n",
       "749998          Negative               100.72939  \n",
       "749999           Neutral                11.94439  \n",
       "\n",
       "[750000 rows x 12 columns]"
      ],
      "text/html": [
       "<div>\n",
       "<style scoped>\n",
       "    .dataframe tbody tr th:only-of-type {\n",
       "        vertical-align: middle;\n",
       "    }\n",
       "\n",
       "    .dataframe tbody tr th {\n",
       "        vertical-align: top;\n",
       "    }\n",
       "\n",
       "    .dataframe thead th {\n",
       "        text-align: right;\n",
       "    }\n",
       "</style>\n",
       "<table border=\"1\" class=\"dataframe\">\n",
       "  <thead>\n",
       "    <tr style=\"text-align: right;\">\n",
       "      <th></th>\n",
       "      <th>id</th>\n",
       "      <th>Podcast_Name</th>\n",
       "      <th>Episode_Title</th>\n",
       "      <th>Episode_Length_minutes</th>\n",
       "      <th>Genre</th>\n",
       "      <th>Host_Popularity_percentage</th>\n",
       "      <th>Publication_Day</th>\n",
       "      <th>Publication_Time</th>\n",
       "      <th>Guest_Popularity_percentage</th>\n",
       "      <th>Number_of_Ads</th>\n",
       "      <th>Episode_Sentiment</th>\n",
       "      <th>Listening_Time_minutes</th>\n",
       "    </tr>\n",
       "  </thead>\n",
       "  <tbody>\n",
       "    <tr>\n",
       "      <th>0</th>\n",
       "      <td>0</td>\n",
       "      <td>Mystery Matters</td>\n",
       "      <td>Episode 98</td>\n",
       "      <td>NaN</td>\n",
       "      <td>True Crime</td>\n",
       "      <td>74.81</td>\n",
       "      <td>Thursday</td>\n",
       "      <td>Night</td>\n",
       "      <td>NaN</td>\n",
       "      <td>0.0</td>\n",
       "      <td>Positive</td>\n",
       "      <td>31.41998</td>\n",
       "    </tr>\n",
       "    <tr>\n",
       "      <th>1</th>\n",
       "      <td>1</td>\n",
       "      <td>Joke Junction</td>\n",
       "      <td>Episode 26</td>\n",
       "      <td>119.80</td>\n",
       "      <td>Comedy</td>\n",
       "      <td>66.95</td>\n",
       "      <td>Saturday</td>\n",
       "      <td>Afternoon</td>\n",
       "      <td>75.95</td>\n",
       "      <td>2.0</td>\n",
       "      <td>Negative</td>\n",
       "      <td>88.01241</td>\n",
       "    </tr>\n",
       "    <tr>\n",
       "      <th>2</th>\n",
       "      <td>2</td>\n",
       "      <td>Study Sessions</td>\n",
       "      <td>Episode 16</td>\n",
       "      <td>73.90</td>\n",
       "      <td>Education</td>\n",
       "      <td>69.97</td>\n",
       "      <td>Tuesday</td>\n",
       "      <td>Evening</td>\n",
       "      <td>8.97</td>\n",
       "      <td>0.0</td>\n",
       "      <td>Negative</td>\n",
       "      <td>44.92531</td>\n",
       "    </tr>\n",
       "    <tr>\n",
       "      <th>3</th>\n",
       "      <td>3</td>\n",
       "      <td>Digital Digest</td>\n",
       "      <td>Episode 45</td>\n",
       "      <td>67.17</td>\n",
       "      <td>Technology</td>\n",
       "      <td>57.22</td>\n",
       "      <td>Monday</td>\n",
       "      <td>Morning</td>\n",
       "      <td>78.70</td>\n",
       "      <td>2.0</td>\n",
       "      <td>Positive</td>\n",
       "      <td>46.27824</td>\n",
       "    </tr>\n",
       "    <tr>\n",
       "      <th>4</th>\n",
       "      <td>4</td>\n",
       "      <td>Mind &amp; Body</td>\n",
       "      <td>Episode 86</td>\n",
       "      <td>110.51</td>\n",
       "      <td>Health</td>\n",
       "      <td>80.07</td>\n",
       "      <td>Monday</td>\n",
       "      <td>Afternoon</td>\n",
       "      <td>58.68</td>\n",
       "      <td>3.0</td>\n",
       "      <td>Neutral</td>\n",
       "      <td>75.61031</td>\n",
       "    </tr>\n",
       "    <tr>\n",
       "      <th>...</th>\n",
       "      <td>...</td>\n",
       "      <td>...</td>\n",
       "      <td>...</td>\n",
       "      <td>...</td>\n",
       "      <td>...</td>\n",
       "      <td>...</td>\n",
       "      <td>...</td>\n",
       "      <td>...</td>\n",
       "      <td>...</td>\n",
       "      <td>...</td>\n",
       "      <td>...</td>\n",
       "      <td>...</td>\n",
       "    </tr>\n",
       "    <tr>\n",
       "      <th>749995</th>\n",
       "      <td>749995</td>\n",
       "      <td>Learning Lab</td>\n",
       "      <td>Episode 25</td>\n",
       "      <td>75.66</td>\n",
       "      <td>Education</td>\n",
       "      <td>69.36</td>\n",
       "      <td>Saturday</td>\n",
       "      <td>Morning</td>\n",
       "      <td>NaN</td>\n",
       "      <td>0.0</td>\n",
       "      <td>Negative</td>\n",
       "      <td>56.87058</td>\n",
       "    </tr>\n",
       "    <tr>\n",
       "      <th>749996</th>\n",
       "      <td>749996</td>\n",
       "      <td>Business Briefs</td>\n",
       "      <td>Episode 21</td>\n",
       "      <td>75.75</td>\n",
       "      <td>Business</td>\n",
       "      <td>35.21</td>\n",
       "      <td>Saturday</td>\n",
       "      <td>Night</td>\n",
       "      <td>NaN</td>\n",
       "      <td>2.0</td>\n",
       "      <td>Neutral</td>\n",
       "      <td>45.46242</td>\n",
       "    </tr>\n",
       "    <tr>\n",
       "      <th>749997</th>\n",
       "      <td>749997</td>\n",
       "      <td>Lifestyle Lounge</td>\n",
       "      <td>Episode 51</td>\n",
       "      <td>30.98</td>\n",
       "      <td>Lifestyle</td>\n",
       "      <td>78.58</td>\n",
       "      <td>Thursday</td>\n",
       "      <td>Morning</td>\n",
       "      <td>84.89</td>\n",
       "      <td>0.0</td>\n",
       "      <td>Negative</td>\n",
       "      <td>15.26000</td>\n",
       "    </tr>\n",
       "    <tr>\n",
       "      <th>749998</th>\n",
       "      <td>749998</td>\n",
       "      <td>Style Guide</td>\n",
       "      <td>Episode 47</td>\n",
       "      <td>108.98</td>\n",
       "      <td>Lifestyle</td>\n",
       "      <td>45.39</td>\n",
       "      <td>Thursday</td>\n",
       "      <td>Morning</td>\n",
       "      <td>93.27</td>\n",
       "      <td>0.0</td>\n",
       "      <td>Negative</td>\n",
       "      <td>100.72939</td>\n",
       "    </tr>\n",
       "    <tr>\n",
       "      <th>749999</th>\n",
       "      <td>749999</td>\n",
       "      <td>Sports Central</td>\n",
       "      <td>Episode 99</td>\n",
       "      <td>24.10</td>\n",
       "      <td>Sports</td>\n",
       "      <td>22.45</td>\n",
       "      <td>Saturday</td>\n",
       "      <td>Night</td>\n",
       "      <td>36.72</td>\n",
       "      <td>0.0</td>\n",
       "      <td>Neutral</td>\n",
       "      <td>11.94439</td>\n",
       "    </tr>\n",
       "  </tbody>\n",
       "</table>\n",
       "<p>750000 rows × 12 columns</p>\n",
       "</div>"
      ]
     },
     "execution_count": 3,
     "metadata": {},
     "output_type": "execute_result"
    }
   ],
   "execution_count": 3
  },
  {
   "metadata": {
    "ExecuteTime": {
     "end_time": "2025-04-10T14:18:05.173977Z",
     "start_time": "2025-04-10T14:18:05.042261Z"
    }
   },
   "cell_type": "code",
   "source": [
    "import matplotlib.pyplot as plt\n",
    "\n",
    "# Group by 'Publication_Day' and calculate the mean of 'Listening_Time_minutes'\n",
    "grouped_2 = df.groupby('Publication_Day')['Listening_Time_minutes'].mean()\n",
    "\n",
    "# Sort by the mean of 'Listening_Time_minutes' in ascending order\n",
    "grouped_2_sorted = grouped_2.sort_values()\n",
    "\n",
    "plt.figure(figsize=(8, 3))\n",
    "\n",
    "# Use the grouped data for plotting\n",
    "x = grouped_2_sorted.index\n",
    "y = grouped_2_sorted.values\n",
    "plt.plot(x, y, alpha=0.7, color='blue', marker='o', markersize=6, linestyle='-', markerfacecolor='blue')\n",
    "\n",
    "plt.xlabel('Publication Day')\n",
    "plt.ylabel('Mean Listening Time (minutes)')\n",
    "plt.grid(axis='y')\n",
    "\n",
    "plt.tight_layout()\n",
    "plt.show()\n"
   ],
   "id": "fef2c4fbbb838ff7",
   "outputs": [
    {
     "data": {
      "text/plain": [
       "<Figure size 800x300 with 1 Axes>"
      ],
      "image/png": "[encoded data removed]"
     },
     "metadata": {},
     "output_type": "display_data"
    }
   ],
   "execution_count": 4
  },
  {
   "metadata": {},
   "cell_type": "markdown",
   "source": [
    "# Some Utility Functions\n",
    "\n",
    "You do not need to modify this part."
   ],
   "id": "8e463ef2ed5f6e44"
  },
  {
   "metadata": {
    "ExecuteTime": {
     "end_time": "2025-04-10T14:18:05.237586Z",
     "start_time": "2025-04-10T14:18:05.216694Z"
    }
   },
   "cell_type": "code",
   "source": [
    "def same_seed(seed):\n",
    "    '''Fixes random number generator seeds for reproducibility.'''\n",
    "    torch.backends.cudnn.deterministic = True\n",
    "    torch.backends.cudnn.benchmark = False\n",
    "    np.random.seed(seed)\n",
    "    torch.manual_seed(seed)\n",
    "    if torch.cuda.is_available():\n",
    "        torch.cuda.manual_seed_all(seed)\n",
    "\n",
    "def train_valid_split(data_set, valid_ratio, seed):\n",
    "    '''Split provided training data into training set and validation set'''\n",
    "    valid_set_size = int(valid_ratio * len(data_set))\n",
    "    train_set_size = len(data_set) - valid_set_size\n",
    "    train_set, valid_set = random_split(data_set, [train_set_size, valid_set_size], generator=torch.Generator().manual_seed(seed))\n",
    "    return np.array(train_set), np.array(valid_set)\n",
    "\n",
    "def predict(test_loader, model, device):\n",
    "    model.eval() # Set your model to evaluation mode.\n",
    "    preds = []\n",
    "    for x in tqdm(test_loader):\n",
    "        x = x.to(device)\n",
    "        with torch.no_grad():\n",
    "            pred = model(x)\n",
    "            preds.append(pred.detach().cpu())\n",
    "    preds = torch.cat(preds, dim=0).numpy()\n",
    "    return preds"
   ],
   "id": "303852a40ccc8a3a",
   "outputs": [],
   "execution_count": 5
  },
  {
   "metadata": {},
   "cell_type": "markdown",
   "source": "# Dataset",
   "id": "664f35600e5cea9b"
  },
  {
   "metadata": {
    "ExecuteTime": {
     "end_time": "2025-04-10T14:18:05.382348Z",
     "start_time": "2025-04-10T14:18:05.373101Z"
    }
   },
   "cell_type": "code",
   "source": [
    "class BackpackDataset(Dataset):\n",
    "    '''\n",
    "    x: Features.\n",
    "    y: Targets, if none, do prediction.\n",
    "    '''\n",
    "    def __init__(self, x, y=None):\n",
    "        if y is None:\n",
    "            self.y = y\n",
    "        else:\n",
    "            self.y = torch.FloatTensor(y)\n",
    "        self.x = torch.FloatTensor(x)\n",
    "\n",
    "    def __getitem__(self, idx):\n",
    "        if self.y is None:\n",
    "            return self.x[idx]\n",
    "        else:\n",
    "            return self.x[idx], self.y[idx]\n",
    "\n",
    "    def __len__(self):\n",
    "        return len(self.x)"
   ],
   "id": "8716d29c4b60803f",
   "outputs": [],
   "execution_count": 6
  },
  {
   "metadata": {},
   "cell_type": "markdown",
   "source": [
    "# Neural Network Model\n",
    "Try out different model architectures by modifying the class below."
   ],
   "id": "be698795bf076270"
  },
  {
   "metadata": {
    "ExecuteTime": {
     "end_time": "2025-04-10T14:18:05.564786Z",
     "start_time": "2025-04-10T14:18:05.555275Z"
    }
   },
   "cell_type": "code",
   "source": [
    "class My_Model(nn.Module):\n",
    "    def __init__(self, input_dim):\n",
    "        super(My_Model, self).__init__()\n",
    "        self.layers = nn.Sequential(\n",
    "nn.Linear(input_dim, 128),\n",
    "            nn.Linear(128, 128),\n",
    "            nn.BatchNorm1d(128),\n",
    "            nn.LeakyReLU(),\n",
    "            nn.Dropout(0.3),\n",
    "\n",
    "            nn.Linear(128, 64),\n",
    "            nn.BatchNorm1d(64),\n",
    "            nn.LeakyReLU(),\n",
    "            nn.Dropout(0.2),\n",
    "\n",
    "            nn.Linear(64, 32),\n",
    "            nn.LeakyReLU(),\n",
    "\n",
    "            nn.Linear(32, 1)\n",
    "        )\n",
    "\n",
    "    def forward(self, x):\n",
    "        x = self.layers(x)\n",
    "        x = x.squeeze(1) # (B, 1) -> (B)\n",
    "        return x\n"
   ],
   "id": "8f8ad3d8ed4f36ca",
   "outputs": [],
   "execution_count": 7
  },
  {
   "metadata": {},
   "cell_type": "markdown",
   "source": [
    "# Feature Selection\n",
    "Choose features you deem useful by modifying the function below."
   ],
   "id": "659bf74c90ad3485"
  },
  {
   "metadata": {
    "ExecuteTime": {
     "end_time": "2025-04-10T14:18:05.857259Z",
     "start_time": "2025-04-10T14:18:05.628131Z"
    }
   },
   "cell_type": "code",
   "source": [
    "from sklearn.feature_selection import SelectKBest, f_regression\n",
    "from sklearn.impute import SimpleImputer\n",
    "from sklearn.preprocessing import MinMaxScaler\n",
    "def select_feat(train_data, valid_data, test_data, select_all=True):\n",
    "    '''Selects useful features to perform regression'''\n",
    "    y_train, y_valid = train_data[:,-1], valid_data[:,-1]\n",
    "    raw_x_train, raw_x_valid, raw_x_test = train_data[:,:-1], valid_data[:,:-1], test_data\n",
    "\n",
    "    # 填充 NaN\n",
    "    imputer = SimpleImputer(strategy='most_frequent')  # 使用均值填充\n",
    "    raw_x_train = imputer.fit_transform(raw_x_train)\n",
    "    raw_x_valid = imputer.transform(raw_x_valid)\n",
    "    raw_x_test = imputer.transform(raw_x_test)\n",
    "\n",
    "    if select_all:\n",
    "        feat_idx = list(range(raw_x_train.shape[1]))\n",
    "    else:\n",
    "        selector = SelectKBest(score_func=f_regression, k=8)  # 选择 k 个最佳特征\n",
    "        selector.fit(raw_x_train, y_train)  # 训练特征选择器\n",
    "        feat_idx = selector.get_support(indices=True)  # 获取选中的特征索引\n",
    "\n",
    "    return raw_x_train[:, feat_idx], raw_x_valid[:, feat_idx], raw_x_test[:, feat_idx], y_train, y_valid\n"
   ],
   "id": "ae19368ebd992342",
   "outputs": [],
   "execution_count": 8
  },
  {
   "metadata": {},
   "cell_type": "markdown",
   "source": "# Training Loop",
   "id": "a295b9b634793ab0"
  },
  {
   "metadata": {
    "ExecuteTime": {
     "end_time": "2025-04-10T14:18:05.982496Z",
     "start_time": "2025-04-10T14:18:05.889531Z"
    }
   },
   "cell_type": "code",
   "source": [
    "from torch.optim import lr_scheduler\n",
    "from torch.optim.lr_scheduler import StepLR\n",
    "\n",
    "def trainer(train_loader, valid_loader, model, config, device):\n",
    "\n",
    "    criterion = nn.MSELoss(reduction='mean') # Define your loss function, do not modify this.\n",
    "\n",
    "    optimizer = torch.optim.Adam(\n",
    "        model.parameters(),\n",
    "        lr=config['learning_rate'],\n",
    "        weight_decay=config.get('weight_decay', 1e-5),  # L2 regularization\n",
    "    )\n",
    "    scheduler = lr_scheduler.ReduceLROnPlateau(optimizer, 'min', patience=10, factor=0.1, verbose=True)\n",
    "\n",
    "\n",
    "    writer = SummaryWriter() # Writer of tensoboard.\n",
    "\n",
    "    if not os.path.isdir('./models'):\n",
    "        os.mkdir('./models') # Create directory of saving models.\n",
    "\n",
    "    n_epochs, best_loss, step, early_stop_count = config['n_epochs'], math.inf, 0, 0\n",
    "\n",
    "    for epoch in range(n_epochs):\n",
    "        model.train() # Set your model to train mode.\n",
    "        loss_record = []\n",
    "\n",
    "        # tqdm is a package to visualize your training progress.\n",
    "        train_pbar = tqdm(train_loader, position=0, leave=True)\n",
    "\n",
    "        for x, y in train_pbar:\n",
    "            optimizer.zero_grad()               # Set gradient to zero.\n",
    "            x, y = x.to(device), y.to(device)   # Move your data to device.\n",
    "            pred = model(x)\n",
    "            loss = criterion(pred, y)\n",
    "            loss.backward()                     # Compute gradient(backpropagation).\n",
    "            optimizer.step()                    # Update parameters.\n",
    "            step += 1\n",
    "            loss_record.append(loss.detach().item())\n",
    "\n",
    "            # Display current epoch number and loss on tqdm progress bar.\n",
    "            train_pbar.set_description(f'Epoch [{epoch+1}/{n_epochs}]')\n",
    "            train_pbar.set_postfix({'loss': loss.detach().item()})\n",
    "\n",
    "        mean_train_loss = sum(loss_record)/len(loss_record)\n",
    "        writer.add_scalar('Loss/train', mean_train_loss, step)\n",
    "\n",
    "        model.eval() # Set your model to evaluation mode.\n",
    "        loss_record = []\n",
    "        for x, y in valid_loader:\n",
    "            x, y = x.to(device), y.to(device)\n",
    "            with torch.no_grad():\n",
    "                pred = model(x)\n",
    "                loss = criterion(pred, y)\n",
    "\n",
    "            loss_record.append(loss.item())\n",
    "\n",
    "        mean_valid_loss = sum(loss_record)/len(loss_record)\n",
    "        print(f'Epoch [{epoch+1}/{n_epochs}]: Train loss: {mean_train_loss:.4f}, Valid loss: {mean_valid_loss:.4f}')\n",
    "        writer.add_scalar('Loss/valid', mean_valid_loss, step)\n",
    "\n",
    "        # Update the scheduler at the end of the epoch\n",
    "        scheduler.step(mean_valid_loss)\n",
    "\n",
    "        if mean_valid_loss < best_loss:\n",
    "            best_loss = mean_valid_loss\n",
    "            torch.save(model.state_dict(), config['save_path']) # Save your best model\n",
    "            print('Saving model with loss {:.3f}...'.format(best_loss))\n",
    "            early_stop_count = 0\n",
    "        else:\n",
    "            early_stop_count += 1\n",
    "\n",
    "        if early_stop_count >= config['early_stop']:\n",
    "            print('\\nModel is not improving, so we halt the training session.')\n",
    "            return"
   ],
   "id": "6feac34708b18c0",
   "outputs": [],
   "execution_count": 9
  },
  {
   "metadata": {},
   "cell_type": "markdown",
   "source": [
    "# Configurations\n",
    "`config` contains hyper-parameters for training and the path to save your model."
   ],
   "id": "1bc5c5f8a0587dbe"
  },
  {
   "metadata": {
    "ExecuteTime": {
     "end_time": "2025-04-10T14:18:06.082882Z",
     "start_time": "2025-04-10T14:18:06.057162Z"
    }
   },
   "cell_type": "code",
   "source": [
    "device = 'cuda' if torch.cuda.is_available() else 'cpu'\n",
    "config = {\n",
    "    'seed': 66666,      # Your seed number, you can pick your lucky number. :)\n",
    "    'select_all': False,   # Whether to use all features.\n",
    "    'valid_ratio': 0.2,   # validation_size = train_size * valid_ratio\n",
    "    'n_epochs': 1000,     # Number of epochs.\n",
    "    'batch_size': 512,\n",
    "    'learning_rate': 0.1,\n",
    "    'early_stop': 400,    # If model has not improved for this many consecutive epochs, stop training.\n",
    "    'save_path': './models/model.ckpt'  # Your model will be saved here.\n",
    "}"
   ],
   "id": "c6c981e9ca8658a7",
   "outputs": [],
   "execution_count": 10
  },
  {
   "metadata": {
    "ExecuteTime": {
     "end_time": "2025-04-11T15:22:05.670391Z",
     "start_time": "2025-04-11T15:21:58.868649Z"
    }
   },
   "cell_type": "code",
   "source": [
    "from sklearn.preprocessing import LabelEncoder, MinMaxScaler\n",
    "import pandas as pd\n",
    "\n",
    "# 加载数据\n",
    "train_df = pd.read_csv('./train.csv')\n",
    "test_df = pd.read_csv('./test.csv')\n",
    "\n",
    "# 检查列，确认train和test数据的结构\n",
    "print(\"Train columns:\", train_df.columns)\n",
    "print(\"Test columns:\", test_df.columns)\n",
    "\n",
    "# Label Encoding 对所有列（如果是类别变量）\n",
    "encoders = {}\n",
    "\n",
    "for col in train_df.columns:\n",
    "    if train_df[col].dtype == 'object':  # 仅对类别（object）列进行 LabelEncoder\n",
    "        le = LabelEncoder()\n",
    "        train_df[col] = le.fit_transform(train_df[col])\n",
    "        test_df[col] = le.transform(test_df[col])  # 使用相同的编码器对 test 数据进行转换\n",
    "        encoders[col] = le  # 存储编码器\n",
    "\n",
    "# 提取 Listening_Time_minutes 列（训练集和测试集）\n",
    "Listening_Time_minutes_train = train_df['Listening_Time_minutes'] if 'Listening_Time_minutes' in train_df.columns else None\n",
    "Listening_Time_minutes_test = test_df['Listening_Time_minutes'] if 'Listening_Time_minutes' in test_df.columns else None\n",
    "\n",
    "# 去除 'Listening_Time_minutes' 列（训练集和测试集）\n",
    "train_df = train_df.drop(columns=['Listening_Time_minutes'], errors='ignore')\n",
    "test_df = test_df.drop(columns=['Listening_Time_minutes'], errors='ignore')\n",
    "\n",
    "# 对所有数值列进行归一化\n",
    "scaler = MinMaxScaler(feature_range=(-1, 1))\n",
    "\n",
    "# 对训练数据进行归一化\n",
    "train_df = pd.DataFrame(scaler.fit_transform(train_df), columns=train_df.columns)\n",
    "\n",
    "# 对测试数据进行归一化\n",
    "test_df = pd.DataFrame(scaler.transform(test_df), columns=test_df.columns)\n",
    "\n",
    "# 将 'Price' 列重新添加到训练集和测试集中\n",
    "if Listening_Time_minutes_train is not None:\n",
    "    train_df['Price'] = Listening_Time_minutes_train\n",
    "if Listening_Time_minutes_test is not None:\n",
    "    test_df['Price'] = Listening_Time_minutes_test\n",
    "\n",
    "# 将数据转换为 numpy 数组，方便模型使用\n",
    "train_data = train_df.values\n",
    "test_data = test_df.values\n",
    "\n",
    "train_data"
   ],
   "id": "ffb2bc3f922b57b",
   "outputs": [
    {
     "name": "stdout",
     "output_type": "stream",
     "text": [
      "Train columns: Index(['id', 'Podcast_Name', 'Episode_Title', 'Episode_Length_minutes',\n",
      "       'Genre', 'Host_Popularity_percentage', 'Publication_Day',\n",
      "       'Publication_Time', 'Guest_Popularity_percentage', 'Number_of_Ads',\n",
      "       'Episode_Sentiment', 'Listening_Time_minutes'],\n",
      "      dtype='object')\n",
      "Test columns: Index(['id', 'Podcast_Name', 'Episode_Title', 'Episode_Length_minutes',\n",
      "       'Genre', 'Host_Popularity_percentage', 'Publication_Day',\n",
      "       'Publication_Time', 'Guest_Popularity_percentage', 'Number_of_Ads',\n",
      "       'Episode_Sentiment'],\n",
      "      dtype='object')\n"
     ]
    },
    {
     "data": {
      "text/plain": [
       "array([[-1.00000000e+00,  4.46808511e-01,  9.79797980e-01, ...,\n",
       "        -1.00000000e+00,  1.00000000e+00,  3.14199800e+01],\n",
       "       [-9.99997333e-01,  2.12765957e-02, -6.16161616e-01, ...,\n",
       "        -9.61505149e-01, -1.00000000e+00,  8.80124100e+01],\n",
       "       [-9.99994667e-01,  7.02127660e-01, -8.38383838e-01, ...,\n",
       "        -1.00000000e+00, -1.00000000e+00,  4.49253100e+01],\n",
       "       ...,\n",
       "       [ 9.99994667e-01,  1.91489362e-01, -5.05050505e-02, ...,\n",
       "        -1.00000000e+00, -1.00000000e+00,  1.52600000e+01],\n",
       "       [ 9.99997333e-01,  7.44680851e-01, -1.51515152e-01, ...,\n",
       "        -1.00000000e+00, -1.00000000e+00,  1.00729390e+02],\n",
       "       [ 1.00000000e+00,  6.17021277e-01,  1.00000000e+00, ...,\n",
       "        -1.00000000e+00,  0.00000000e+00,  1.19443900e+01]])"
      ]
     },
     "execution_count": 1,
     "metadata": {},
     "output_type": "execute_result"
    }
   ],
   "execution_count": 1
  },
  {
   "metadata": {},
   "cell_type": "markdown",
   "source": [
    "# Dataloader\n",
    "Read data from files and set up training, validation, and testing sets. You do not need to modify this part."
   ],
   "id": "f535b88146662a5d"
  },
  {
   "metadata": {
    "ExecuteTime": {
     "end_time": "2025-04-10T14:18:09.176775Z",
     "start_time": "2025-04-10T14:18:07.957652Z"
    }
   },
   "cell_type": "code",
   "source": [
    "# Set seed for reproducibility\n",
    "same_seed(config['seed'])\n",
    "\n",
    "# train_data, test_data = pd.read_csv('./train.csv').values, pd.read_csv('./test.csv').values\n",
    "train_data, valid_data = train_valid_split(train_data, config['valid_ratio'], config['seed'])\n",
    "\n",
    "# Print out the data size.\n",
    "print(f\"\"\"train_data size: {train_data.shape}\n",
    "valid_data size: {valid_data.shape}\n",
    "test_data size: {test_data.shape}\"\"\")\n",
    "\n",
    "# Select features\n",
    "x_train, x_valid, x_test, y_train, y_valid = select_feat(train_data, valid_data, test_data, config['select_all'])\n",
    "\n",
    "\n",
    "# Print out the number of features.\n",
    "print(f'number of features: {x_train.shape[1]}')\n",
    "\n",
    "train_dataset, valid_dataset, test_dataset = BackpackDataset(x_train, y_train), \\\n",
    "                                            BackpackDataset(x_valid, y_valid), \\\n",
    "                                            BackpackDataset(x_test)\n",
    "\n",
    "# Pytorch data loader loads pytorch dataset into batches.\n",
    "train_loader = DataLoader(train_dataset, batch_size=config['batch_size'], shuffle=True, pin_memory=True)\n",
    "valid_loader = DataLoader(valid_dataset, batch_size=config['batch_size'], shuffle=True, pin_memory=True)\n",
    "test_loader = DataLoader(test_dataset, batch_size=config['batch_size'], shuffle=False, pin_memory=True)"
   ],
   "id": "ace2920f809c8ae8",
   "outputs": [
    {
     "name": "stdout",
     "output_type": "stream",
     "text": [
      "train_data size: (600000, 12)\n",
      "valid_data size: (150000, 12)\n",
      "test_data size: (250000, 11)\n",
      "number of features: 8\n"
     ]
    }
   ],
   "execution_count": 12
  },
  {
   "metadata": {},
   "cell_type": "markdown",
   "source": "# Start training!",
   "id": "736782c131d4479d"
  },
  {
   "metadata": {
    "jupyter": {
     "is_executing": true
    },
    "ExecuteTime": {
     "start_time": "2025-04-10T14:18:09.226779Z"
    }
   },
   "cell_type": "code",
   "source": [
    "model = My_Model(input_dim=x_train.shape[1]).to(device) # put your model and data on the same computation device.\n",
    "trainer(train_loader, valid_loader, model, config, device)"
   ],
   "id": "d2b9630a1af3a3d8",
   "outputs": [
    {
     "name": "stderr",
     "output_type": "stream",
     "text": [
      "Epoch [1/1000]: 100%|██████████| 1172/1172 [00:12<00:00, 94.58it/s, loss=243] \n"
     ]
    },
    {
     "name": "stdout",
     "output_type": "stream",
     "text": [
      "Epoch [1/1000]: Train loss: 264.6934, Valid loss: 286.2626\n",
      "Saving model with loss 286.263...\n"
     ]
    },
    {
     "name": "stderr",
     "output_type": "stream",
     "text": [
      "Epoch [2/1000]:  69%|██████▉   | 814/1172 [00:07<00:02, 123.02it/s, loss=210]"
     ]
    }
   ],
   "execution_count": null
  },
  {
   "metadata": {},
   "cell_type": "markdown",
   "source": [
    "# Plot learning curves with `tensorboard`\n",
    "\n",
    "`tensorboard` is a tool that allows you to visualize your training progress.\n",
    "\n",
    "If this block does not display your learning curve, please wait for few minutes, and re-run this block. It might take some time to load your logging information."
   ],
   "id": "6c9af2b42f785c"
  },
  {
   "metadata": {},
   "cell_type": "code",
   "outputs": [],
   "execution_count": null,
   "source": [
    "%reload_ext tensorboard\n",
    "%tensorboard --logdir=./runs/"
   ],
   "id": "2fa6a006f03c10be"
  },
  {
   "metadata": {},
   "cell_type": "markdown",
   "source": [
    "# Testing\n",
    "The predictions of your model on testing set will be stored at `pred.csv`."
   ],
   "id": "15f39ed2fadaccb0"
  },
  {
   "metadata": {},
   "cell_type": "code",
   "outputs": [],
   "execution_count": null,
   "source": [
    "def save_pred(preds, file):\n",
    "    ''' Save predictions to specified file '''\n",
    "    with open(file, 'w') as fp:\n",
    "        writer = csv.writer(fp)\n",
    "        writer.writerow(['id', 'Listening_Time_minutes'])\n",
    "        for i, p in enumerate(preds):\n",
    "            writer.writerow([i+750000, p])\n",
    "\n",
    "model = My_Model(input_dim=x_train.shape[1]).to(device)\n",
    "model.load_state_dict(torch.load(config['save_path']))\n",
    "preds = predict(test_loader, model, device)\n",
    "save_pred(preds, 'pred.csv')"
   ],
   "id": "e4ebbbf3509714a6"
  }
 ],
 "metadata": {
  "kernelspec": {
   "name": "python3",
   "language": "python",
   "display_name": "Python 3 (ipykernel)"
  }
 },
 "nbformat": 5,
 "nbformat_minor": 9
}
