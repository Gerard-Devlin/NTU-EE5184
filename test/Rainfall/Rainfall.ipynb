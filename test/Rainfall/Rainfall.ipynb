{
 "cells": [
  {
   "metadata": {
    "ExecuteTime": {
     "end_time": "2025-04-13T14:47:59.688204Z",
     "start_time": "2025-04-13T14:47:59.676205Z"
    }
   },
   "cell_type": "code",
   "source": [
    "import pandas as pd\n",
    "import numpy as np\n",
    "import matplotlib.pyplot as plt\n",
    "from xgboost import XGBRegressor\n",
    "import xgboost as xgb\n",
    "from sklearn.model_selection import GroupKFold\n",
    "from sklearn.metrics import mean_squared_error"
   ],
   "id": "8f78f81694555878",
   "outputs": [],
   "execution_count": 156
  },
  {
   "metadata": {
    "ExecuteTime": {
     "end_time": "2025-04-13T14:07:34.527691Z",
     "start_time": "2025-04-13T14:07:34.502870Z"
    }
   },
   "cell_type": "code",
   "source": [
    "train = pd.read_csv('train.csv')\n",
    "test = pd.read_csv('test.csv')\n",
    "RMV = ['rainfall','id']\n",
    "FEATURES = [c for c in train.columns if not c in RMV]\n",
    "print(\"Our features are:\")\n",
    "print( FEATURES )"
   ],
   "id": "f4e391179e038120",
   "outputs": [
    {
     "name": "stdout",
     "output_type": "stream",
     "text": [
      "Our features are:\n",
      "['day', 'pressure', 'maxtemp', 'temparature', 'mintemp', 'dewpoint', 'humidity', 'cloud', 'sunshine', 'winddirection', 'windspeed']\n"
     ]
    }
   ],
   "execution_count": 118
  },
  {
   "metadata": {
    "ExecuteTime": {
     "end_time": "2025-04-13T14:07:45.151582Z",
     "start_time": "2025-04-13T14:07:45.143504Z"
    }
   },
   "cell_type": "code",
   "source": [
    "from sklearn.model_selection import KFold\n",
    "from xgboost import XGBRegressor, XGBClassifier\n",
    "import xgboost\n",
    "print(\"Using XGBoost version\",xgboost.__version__)"
   ],
   "id": "4db48bcc6618ca2b",
   "outputs": [
    {
     "name": "stdout",
     "output_type": "stream",
     "text": [
      "Using XGBoost version 3.0.0\n"
     ]
    }
   ],
   "execution_count": 119
  },
  {
   "metadata": {
    "ExecuteTime": {
     "end_time": "2025-04-13T15:02:14.271531Z",
     "start_time": "2025-04-13T15:02:13.246791Z"
    }
   },
   "cell_type": "code",
   "source": [
    "%%time\n",
    "FOLDS = 5\n",
    "kf = KFold(n_splits=FOLDS, shuffle=True, random_state=42)\n",
    "\n",
    "oof_xgb = np.zeros(len(train))\n",
    "pred_xgb = np.zeros(len(test))\n",
    "\n",
    "for i, (train_index, test_index) in enumerate(kf.split(train)):\n",
    "\n",
    "    print(\"#\"*25)\n",
    "    print(f\"### Fold {i+1}\")\n",
    "    print(\"#\"*25)\n",
    "\n",
    "    x_train = train.loc[train_index,FEATURES].copy()\n",
    "    y_train = train.loc[train_index,\"rainfall\"]\n",
    "    x_valid = train.loc[test_index,FEATURES].copy()\n",
    "    y_valid = train.loc[test_index,\"rainfall\"]\n",
    "    x_test = test[FEATURES].copy()\n",
    "\n",
    "    params = {\n",
    "        'max_depth': 3, 'learning_rate': 0.030429463807184344, 'subsample': 0.9891803640695981, 'colsample_bytree': 0.987274150659399, 'alpha': 6.551274888446281, 'lambda': 7.391871113821021\n",
    "    }\n",
    "    model = XGBClassifier(**params)\n",
    "    model.fit(\n",
    "        x_train, y_train,\n",
    "        eval_set=[(x_valid, y_valid)],\n",
    "        verbose=100\n",
    "    )\n",
    "\n",
    "    # INFER OOF\n",
    "    oof_xgb[test_index] = model.predict_proba(x_valid)[:,1]\n",
    "    # INFER TEST\n",
    "    pred_xgb += model.predict_proba(x_test)[:,1]\n",
    "\n",
    "# COMPUTE AVERAGE TEST PREDS\n",
    "pred_xgb /= FOLDS"
   ],
   "id": "13548711b61a9c5",
   "outputs": [
    {
     "name": "stdout",
     "output_type": "stream",
     "text": [
      "#########################\n",
      "### Fold 1\n",
      "#########################\n",
      "[0]\tvalidation_0-logloss:0.57702\n",
      "[99]\tvalidation_0-logloss:0.38412\n",
      "#########################\n",
      "### Fold 2\n",
      "#########################\n",
      "[0]\tvalidation_0-logloss:0.51523\n",
      "[99]\tvalidation_0-logloss:0.33330\n",
      "#########################\n",
      "### Fold 3\n",
      "#########################\n",
      "[0]\tvalidation_0-logloss:0.55199\n",
      "[99]\tvalidation_0-logloss:0.33437\n",
      "#########################\n",
      "### Fold 4\n",
      "#########################\n",
      "[0]\tvalidation_0-logloss:0.51161\n",
      "[99]\tvalidation_0-logloss:0.28646\n",
      "#########################\n",
      "### Fold 5\n",
      "#########################\n",
      "[0]\tvalidation_0-logloss:0.58986\n",
      "[99]\tvalidation_0-logloss:0.38053\n",
      "CPU times: total: 13.6 s\n",
      "Wall time: 1.01 s\n"
     ]
    }
   ],
   "execution_count": 169
  },
  {
   "metadata": {
    "ExecuteTime": {
     "end_time": "2025-04-13T15:02:17.078340Z",
     "start_time": "2025-04-13T15:02:17.072349Z"
    }
   },
   "cell_type": "code",
   "source": [
    "from sklearn.metrics import roc_auc_score\n",
    "true = train.rainfall.values\n",
    "m = roc_auc_score(true, oof_xgb)\n",
    "print(f\"XGBoost CV Score AUC = {m:.3f}\")"
   ],
   "id": "da37c52ff331e69f",
   "outputs": [
    {
     "name": "stdout",
     "output_type": "stream",
     "text": [
      "XGBoost CV Score AUC = 0.888\n"
     ]
    }
   ],
   "execution_count": 170
  },
  {
   "metadata": {
    "ExecuteTime": {
     "end_time": "2025-04-13T15:02:19.111691Z",
     "start_time": "2025-04-13T15:02:18.935001Z"
    }
   },
   "cell_type": "code",
   "source": [
    "feature_importance = model.feature_importances_\n",
    "importance_df = pd.DataFrame({\n",
    "    \"Feature\": FEATURES,\n",
    "    \"Importance\": feature_importance\n",
    "}).sort_values(by=\"Importance\", ascending=False)\n",
    "plt.figure(figsize=(10, 5))\n",
    "plt.barh(importance_df[\"Feature\"], importance_df[\"Importance\"])\n",
    "plt.xlabel(\"Importance\")\n",
    "plt.ylabel(\"Feature\")\n",
    "plt.title(\"XGBoost Feature Importance\")\n",
    "plt.gca().invert_yaxis()\n",
    "plt.show()"
   ],
   "id": "425ff4bf2cf41af8",
   "outputs": [
    {
     "data": {
      "text/plain": [
       "<Figure size 1000x500 with 1 Axes>"
      ],
      "image/png": "[encoded data removed]"
     },
     "metadata": {},
     "output_type": "display_data"
    }
   ],
   "execution_count": 171
  },
  {
   "metadata": {
    "ExecuteTime": {
     "end_time": "2025-04-13T15:02:21.306055Z",
     "start_time": "2025-04-13T15:02:21.297066Z"
    }
   },
   "cell_type": "code",
   "source": [
    "submission = pd.DataFrame({\n",
    "    \"id\": test['id'],  # 测试集的唯一标识列\n",
    "    \"rainfall\": pred_xgb# 预测结果\n",
    "})\n",
    "submission.to_csv(\"submission.csv\", index=False)"
   ],
   "id": "5d7cdaf61d8b44bb",
   "outputs": [],
   "execution_count": 172
  }
 ],
 "metadata": {
  "kernelspec": {
   "display_name": "Python 3",
   "language": "python",
   "name": "python3"
  },
  "language_info": {
   "codemirror_mode": {
    "name": "ipython",
    "version": 2
   },
   "file_extension": ".py",
   "mimetype": "text/x-python",
   "name": "python",
   "nbconvert_exporter": "python",
   "pygments_lexer": "ipython2",
   "version": "2.7.6"
  }
 },
 "nbformat": 4,
 "nbformat_minor": 5
}
