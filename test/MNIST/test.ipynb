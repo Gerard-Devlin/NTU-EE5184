{
 "cells": [
  {
   "cell_type": "markdown",
   "id": "5fe67d248445e641",
   "metadata": {},
   "source": [
    "## Import needed packages"
   ]
  },
  {
   "cell_type": "code",
   "id": "a3cd318356116dcc",
   "metadata": {
    "ExecuteTime": {
     "end_time": "2025-04-08T15:11:54.079520Z",
     "start_time": "2025-04-08T15:11:50.204167Z"
    }
   },
   "source": [
    "import torch\n",
    "import torch.nn as nn\n",
    "import torch.optim as optim\n",
    "from torch.utils.data import DataLoader\n",
    "from torchvision import datasets,transforms\n",
    "import matplotlib.pyplot as plt\n",
    "import seaborn as sns\n",
    "import matplotlib.pyplot as plt\n",
    "from sklearn.metrics import confusion_matrix\n",
    "import numpy as np"
   ],
   "outputs": [],
   "execution_count": 2
  },
  {
   "cell_type": "markdown",
   "id": "86d55abf11fb6047",
   "metadata": {},
   "source": [
    "## Hyperparameter\n"
   ]
  },
  {
   "cell_type": "code",
   "id": "1f0c96a64c96a6c2",
   "metadata": {
    "ExecuteTime": {
     "end_time": "2025-04-08T15:11:55.889352Z",
     "start_time": "2025-04-08T15:11:54.100849Z"
    }
   },
   "source": [
    "config = {\n",
    "    \"device\": torch.device(\"cuda\" if torch.cuda.is_available() else \"cpu\"),\n",
    "    \"batch_size\" : 64,\n",
    "    \"learning_rate\" : 0.01 ,\n",
    "    \"epochs\":5,\n",
    "}"
   ],
   "outputs": [],
   "execution_count": 3
  },
  {
   "cell_type": "markdown",
   "id": "e306ddf1150228fb",
   "metadata": {},
   "source": [
    "## Dataloader"
   ]
  },
  {
   "cell_type": "code",
   "id": "20c859d7f3a9d937",
   "metadata": {
    "ExecuteTime": {
     "end_time": "2025-04-08T15:11:56.011777Z",
     "start_time": "2025-04-08T15:11:55.927809Z"
    }
   },
   "source": [
    "transform = transforms.Compose([\n",
    "    transforms.ToTensor(),\n",
    "    transforms.Normalize((0.5,), (0.5,))\n",
    "])\n",
    "\n",
    "train_dataset = datasets.MNIST(root=\"./data\", train=True, transform=transform, download=True)\n",
    "test_dataset = datasets.MNIST(root=\"./data\", train=False, transform=transform, download=True)\n",
    "train_loader = DataLoader(train_dataset, batch_size=config[\"batch_size\"], shuffle=True)\n",
    "test_loader = DataLoader(test_dataset, batch_size=config[\"batch_size\"], shuffle=True)"
   ],
   "outputs": [],
   "execution_count": 4
  },
  {
   "cell_type": "markdown",
   "id": "7a3f4c1c5ef437cd",
   "metadata": {},
   "source": [
    "## Visualize\n"
   ]
  },
  {
   "cell_type": "code",
   "id": "e84ec92271f1fad5",
   "metadata": {
    "ExecuteTime": {
     "end_time": "2025-04-08T15:11:56.661414Z",
     "start_time": "2025-04-08T15:11:56.025811Z"
    }
   },
   "source": [
    "examples = iter(train_loader)\n",
    "images, labels = next(examples)\n",
    "\n",
    "plt.figure(figsize=(10,10))\n",
    "for i in range(16):\n",
    "    plt.subplot(4, 4, i+1)\n",
    "    plt.imshow(images[i][0], cmap='gray')\n",
    "    # plt.title(f\"Label: {labels[i].item()}\")\n",
    "    plt.title(f\"label:{labels[i]}\")\n",
    "    plt.axis('off')\n",
    "plt.show()\n"
   ],
   "outputs": [
    {
     "data": {
      "text/plain": [
       "<Figure size 1000x1000 with 16 Axes>"
      ],
      "image/png": "[encoded data removed]"
     },
     "metadata": {},
     "output_type": "display_data"
    }
   ],
   "execution_count": 5
  },
  {
   "cell_type": "markdown",
   "id": "14376f7c9f42ca9f",
   "metadata": {},
   "source": [
    "## Model\n"
   ]
  },
  {
   "cell_type": "code",
   "id": "922ce656bc8b0288",
   "metadata": {
    "ExecuteTime": {
     "end_time": "2025-04-08T15:12:21.704589Z",
     "start_time": "2025-04-08T15:12:19.926080Z"
    }
   },
   "source": [
    "import torch.nn as nn\n",
    "\n",
    "class SimpleNN(nn.Module):\n",
    "    def __init__(self):\n",
    "        super(SimpleNN, self).__init__()\n",
    "        self.model = nn.Sequential(\n",
    "            nn.Flatten(),                                 # 展平 28x28 图像\n",
    "            nn.Linear(28*28, 512),                        # 输入层\n",
    "            nn.BatchNorm1d(512),                          # 批归一化\n",
    "            nn.LeakyReLU(0.1),                            # LeakyReLU 防止死神经元\n",
    "            nn.Dropout(0.3),                              # Dropout 防止过拟合\n",
    "\n",
    "            nn.Linear(512, 256),                          # 中间层1\n",
    "            nn.BatchNorm1d(256),\n",
    "            nn.LeakyReLU(0.1),\n",
    "            nn.Dropout(0.3),\n",
    "\n",
    "            nn.Linear(256, 128),                          # 中间层2\n",
    "            nn.BatchNorm1d(128),\n",
    "            nn.LeakyReLU(0.1),\n",
    "            nn.Dropout(0.3),\n",
    "\n",
    "            nn.Linear(128, 10),                           # 输出层\n",
    "        )\n",
    "\n",
    "    def forward(self, x):\n",
    "        return self.model(x)\n",
    "\n",
    "model = SimpleNN().to(config[\"device\"])\n"
   ],
   "outputs": [],
   "execution_count": 7
  },
  {
   "metadata": {
    "ExecuteTime": {
     "end_time": "2025-04-08T15:12:40.252144Z",
     "start_time": "2025-04-08T15:12:35.849922Z"
    }
   },
   "cell_type": "code",
   "source": [
    "from torchsummary import summary\n",
    "\n",
    "summary(model, input_size=(28*28,))"
   ],
   "id": "6a5a545df865d2a3",
   "outputs": [
    {
     "name": "stdout",
     "output_type": "stream",
     "text": [
      "----------------------------------------------------------------\n",
      "        Layer (type)               Output Shape         Param #\n",
      "================================================================\n",
      "           Flatten-1                  [-1, 784]               0\n",
      "            Linear-2                  [-1, 512]         401,920\n",
      "       BatchNorm1d-3                  [-1, 512]           1,024\n",
      "         LeakyReLU-4                  [-1, 512]               0\n",
      "           Dropout-5                  [-1, 512]               0\n",
      "            Linear-6                  [-1, 256]         131,328\n",
      "       BatchNorm1d-7                  [-1, 256]             512\n",
      "         LeakyReLU-8                  [-1, 256]               0\n",
      "           Dropout-9                  [-1, 256]               0\n",
      "           Linear-10                  [-1, 128]          32,896\n",
      "      BatchNorm1d-11                  [-1, 128]             256\n",
      "        LeakyReLU-12                  [-1, 128]               0\n",
      "          Dropout-13                  [-1, 128]               0\n",
      "           Linear-14                   [-1, 10]           1,290\n",
      "================================================================\n",
      "Total params: 569,226\n",
      "Trainable params: 569,226\n",
      "Non-trainable params: 0\n",
      "----------------------------------------------------------------\n",
      "Input size (MB): 0.00\n",
      "Forward/backward pass size (MB): 0.03\n",
      "Params size (MB): 2.17\n",
      "Estimated Total Size (MB): 2.21\n",
      "----------------------------------------------------------------\n"
     ]
    }
   ],
   "execution_count": 9
  },
  {
   "cell_type": "markdown",
   "id": "587b7d94024bf762",
   "metadata": {},
   "source": [
    "## Loss Function and Optimizer"
   ]
  },
  {
   "cell_type": "code",
   "id": "1ff40abcf4489314",
   "metadata": {
    "ExecuteTime": {
     "end_time": "2025-04-08T15:12:16.580821Z",
     "start_time": "2025-04-08T15:12:16.466520Z"
    }
   },
   "source": [
    "criterion = nn.CrossEntropyLoss()\n",
    "optimizer = optim.Adam(model.parameters(), lr=config[\"learning_rate\"])"
   ],
   "outputs": [
    {
     "ename": "NameError",
     "evalue": "name 'model' is not defined",
     "output_type": "error",
     "traceback": [
      "\u001B[1;31m---------------------------------------------------------------------------\u001B[0m",
      "\u001B[1;31mNameError\u001B[0m                                 Traceback (most recent call last)",
      "Cell \u001B[1;32mIn[6], line 2\u001B[0m\n\u001B[0;32m      1\u001B[0m criterion \u001B[38;5;241m=\u001B[39m nn\u001B[38;5;241m.\u001B[39mCrossEntropyLoss()\n\u001B[1;32m----> 2\u001B[0m optimizer \u001B[38;5;241m=\u001B[39m optim\u001B[38;5;241m.\u001B[39mAdam(\u001B[43mmodel\u001B[49m\u001B[38;5;241m.\u001B[39mparameters(), lr\u001B[38;5;241m=\u001B[39mconfig[\u001B[38;5;124m\"\u001B[39m\u001B[38;5;124mlearning_rate\u001B[39m\u001B[38;5;124m\"\u001B[39m])\n",
      "\u001B[1;31mNameError\u001B[0m: name 'model' is not defined"
     ]
    }
   ],
   "execution_count": 6
  },
  {
   "cell_type": "markdown",
   "id": "d326aac5682052e",
   "metadata": {},
   "source": [
    "## Trainig loop"
   ]
  },
  {
   "cell_type": "code",
   "execution_count": 7,
   "id": "4211cc6369d3b327",
   "metadata": {
    "ExecuteTime": {
     "end_time": "2025-04-07T07:00:26.510191Z",
     "start_time": "2025-04-07T06:57:05.892798Z"
    }
   },
   "outputs": [
    {
     "name": "stdout",
     "output_type": "stream",
     "text": [
      "\n",
      "🔄 Epoch 1/5\n"
     ]
    },
    {
     "name": "stderr",
     "output_type": "stream",
     "text": [
      "                                                                        "
     ]
    },
    {
     "name": "stdout",
     "output_type": "stream",
     "text": [
      "✅ Epoch 1 finished. Average Loss: 0.2891\n",
      "📊 Test Accuracy after Epoch 1: 95.56%\n",
      "💾 Saved new best model!\n",
      "\n",
      "🔄 Epoch 2/5\n"
     ]
    },
    {
     "name": "stderr",
     "output_type": "stream",
     "text": [
      "                                                                        "
     ]
    },
    {
     "name": "stdout",
     "output_type": "stream",
     "text": [
      "✅ Epoch 2 finished. Average Loss: 0.1708\n",
      "📊 Test Accuracy after Epoch 2: 97.04%\n",
      "💾 Saved new best model!\n",
      "\n",
      "🔄 Epoch 3/5\n"
     ]
    },
    {
     "name": "stderr",
     "output_type": "stream",
     "text": [
      "                                                                        "
     ]
    },
    {
     "name": "stdout",
     "output_type": "stream",
     "text": [
      "✅ Epoch 3 finished. Average Loss: 0.1402\n",
      "📊 Test Accuracy after Epoch 3: 97.33%\n",
      "💾 Saved new best model!\n",
      "\n",
      "🔄 Epoch 4/5\n"
     ]
    },
    {
     "name": "stderr",
     "output_type": "stream",
     "text": [
      "                                                                         "
     ]
    },
    {
     "name": "stdout",
     "output_type": "stream",
     "text": [
      "✅ Epoch 4 finished. Average Loss: 0.1244\n",
      "📊 Test Accuracy after Epoch 4: 97.75%\n",
      "💾 Saved new best model!\n",
      "\n",
      "🔄 Epoch 5/5\n"
     ]
    },
    {
     "name": "stderr",
     "output_type": "stream",
     "text": [
      "                                                                         "
     ]
    },
    {
     "name": "stdout",
     "output_type": "stream",
     "text": [
      "✅ Epoch 5 finished. Average Loss: 0.1145\n",
      "📊 Test Accuracy after Epoch 5: 97.77%\n",
      "💾 Saved new best model!\n",
      "\n",
      "🏁 Training done. Best Accuracy: 97.77%\n"
     ]
    }
   ],
   "source": [
    "from tqdm import tqdm\n",
    "\n",
    "best_acc = 0.0  # 当前最优准确率\n",
    "\n",
    "for epoch in range(config[\"epochs\"]):\n",
    "    total_loss = 0.0\n",
    "    model.train()\n",
    "\n",
    "    print(f\"\\n🔄 Epoch {epoch+1}/{config['epochs']}\")\n",
    "    train_bar = tqdm(train_loader, desc=\"Training\", dynamic_ncols=True, leave=False)\n",
    "\n",
    "    for images, labels in train_bar:\n",
    "        images, labels = images.to(config[\"device\"]), labels.to(config[\"device\"])\n",
    "\n",
    "        outputs = model(images)\n",
    "        loss = criterion(outputs, labels)\n",
    "\n",
    "        optimizer.zero_grad()\n",
    "        loss.backward()\n",
    "        optimizer.step()\n",
    "\n",
    "        total_loss += loss.item()\n",
    "        train_bar.set_postfix(loss=loss.item())\n",
    "\n",
    "    avg_loss = total_loss / len(train_loader)\n",
    "    print(f\"✅ Epoch {epoch+1} finished. Average Loss: {avg_loss:.4f}\")\n",
    "\n",
    "    # =============== 验证集评估（可用 test_loader） ===============\n",
    "    model.eval()\n",
    "    total = 0\n",
    "    correct = 0\n",
    "    with torch.no_grad():\n",
    "        for images, labels in test_loader:\n",
    "            images, labels = images.to(config[\"device\"]), labels.to(config[\"device\"])\n",
    "            outputs = model(images)\n",
    "            _, predicted = torch.max(outputs, 1)\n",
    "            total += labels.size(0)\n",
    "            correct += (predicted == labels).sum().item()\n",
    "\n",
    "    acc = correct / total\n",
    "    print(f\"📊 Test Accuracy after Epoch {epoch+1}: {acc*100:.2f}%\")\n",
    "\n",
    "    # =============== 保存最好的模型 ===============\n",
    "    if acc > best_acc:\n",
    "        best_acc = acc\n",
    "        torch.save(model.state_dict(), \"best_model.pth\")\n",
    "        print(\"💾 Saved new best model!\")\n",
    "\n",
    "print(f\"\\n🏁 Training done. Best Accuracy: {best_acc*100:.2f}%\")\n"
   ]
  },
  {
   "cell_type": "markdown",
   "id": "f958bb3e4abea1e0",
   "metadata": {},
   "source": [
    "## Testing"
   ]
  },
  {
   "cell_type": "code",
   "execution_count": 8,
   "id": "68cbdd0b0c9dbc2e",
   "metadata": {
    "ExecuteTime": {
     "end_time": "2025-04-07T07:00:35.101593Z",
     "start_time": "2025-04-07T07:00:34.005215Z"
    }
   },
   "outputs": [
    {
     "name": "stderr",
     "output_type": "stream",
     "text": [
      "                                                           "
     ]
    },
    {
     "name": "stdout",
     "output_type": "stream",
     "text": [
      "Test Accuracy: 97.77%\n"
     ]
    },
    {
     "name": "stderr",
     "output_type": "stream",
     "text": []
    }
   ],
   "source": [
    "with torch.no_grad():\n",
    "    total = 0\n",
    "    correct = 0\n",
    "    model.eval()\n",
    "    for images, labels in tqdm(test_loader, desc=\"Testing\", dynamic_ncols=True, leave=False):\n",
    "        images, labels = images.to(config[\"device\"]),labels.to(config[\"device\"])\n",
    "        outputs = model(images)\n",
    "        _, predicted = torch.max(outputs.data, 1)\n",
    "        total += labels.size(0)\n",
    "        correct += (predicted == labels).sum().item()\n",
    "\n",
    "    print(f\"Test Accuracy: {100 * correct / total:.2f}%\")"
   ]
  },
  {
   "cell_type": "markdown",
   "id": "cc722e35d6b1cf82",
   "metadata": {},
   "source": [
    "## Saving Model"
   ]
  },
  {
   "cell_type": "code",
   "execution_count": 9,
   "id": "7c4e50827e3c022d",
   "metadata": {
    "ExecuteTime": {
     "end_time": "2025-04-07T07:00:38.516580Z",
     "start_time": "2025-04-07T07:00:38.493766Z"
    }
   },
   "outputs": [],
   "source": [
    "torch.save(model.state_dict(), \"model.pth\")"
   ]
  },
  {
   "cell_type": "markdown",
   "id": "55fd14e9d711ff00",
   "metadata": {},
   "source": [
    "## Load Model and Predict"
   ]
  },
  {
   "cell_type": "code",
   "execution_count": 10,
   "id": "a3208681840e8ff5",
   "metadata": {
    "ExecuteTime": {
     "end_time": "2025-04-07T07:00:41.492809Z",
     "start_time": "2025-04-07T07:00:41.468354Z"
    }
   },
   "outputs": [
    {
     "name": "stdout",
     "output_type": "stream",
     "text": [
      "Test Accuracy: 97.77%\n"
     ]
    }
   ],
   "source": [
    "model.load_state_dict(torch.load(\"model.pth\"))\n",
    "model.eval()\n",
    "\n",
    "images, labels = next(iter(test_loader))\n",
    "images, labels = images.to(config[\"device\"]),labels.to(config[\"device\"])\n",
    "outputs = model(images)\n",
    "_, predicted = torch.max(outputs.data, 1)\n",
    "print(f\"Test Accuracy: {100 * correct / total:.2f}%\")"
   ]
  },
  {
   "cell_type": "markdown",
   "id": "95449dd7ddd07c58",
   "metadata": {},
   "source": [
    "## Visualize"
   ]
  },
  {
   "cell_type": "code",
   "execution_count": 11,
   "id": "13c2a73b06fd21b9",
   "metadata": {
    "ExecuteTime": {
     "end_time": "2025-04-07T07:00:46.226730Z",
     "start_time": "2025-04-07T07:00:44.968356Z"
    }
   },
   "outputs": [
    {
     "data": {
      "image/png": "[encoded data removed]",
      "text/plain": [
       "<Figure size 2000x2000 with 2 Axes>"
      ]
     },
     "metadata": {},
     "output_type": "display_data"
    }
   ],
   "source": [
    "model.eval()\n",
    "\n",
    "all_preds = []\n",
    "all_labels = []\n",
    "\n",
    "with torch.no_grad():\n",
    "    for images, labels in test_loader:\n",
    "        images, labels = images.to(config[\"device\"]), labels.to(config[\"device\"])\n",
    "        outputs = model(images)\n",
    "        _, preds = torch.max(outputs, 1)\n",
    "\n",
    "        all_preds.extend(preds.cpu().numpy())\n",
    "        all_labels.extend(labels.cpu().numpy())\n",
    "\n",
    "# calculate\n",
    "cm = confusion_matrix(all_labels, all_preds)\n",
    "\n",
    "# Visualize\n",
    "plt.figure(figsize=(20, 20))\n",
    "sns.heatmap(cm, annot=True, fmt=\"d\", cmap=\"Blues\", xticklabels=range(10), yticklabels=range(10))\n",
    "plt.xlabel(\"Predicted Label\")\n",
    "plt.ylabel(\"True Label\")\n",
    "plt.title(\"Confusion Matrix\")\n",
    "plt.show()\n"
   ]
  }
 ],
 "metadata": {
  "kernelspec": {
   "display_name": "Python 3 (ipykernel)",
   "language": "python",
   "name": "python3"
  },
  "language_info": {
   "codemirror_mode": {
    "name": "ipython",
    "version": 3
   },
   "file_extension": ".py",
   "mimetype": "text/x-python",
   "name": "python",
   "nbconvert_exporter": "python",
   "pygments_lexer": "ipython3",
   "version": "3.10.11"
  }
 },
 "nbformat": 4,
 "nbformat_minor": 5
}
