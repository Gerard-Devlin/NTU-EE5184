{
 "cells": [
  {
   "cell_type": "markdown",
   "id": "5fe67d248445e641",
   "metadata": {},
   "source": [
    "## Import needed packages"
   ]
  },
  {
   "cell_type": "code",
   "id": "a3cd318356116dcc",
   "metadata": {
    "ExecuteTime": {
     "end_time": "2025-04-11T06:28:59.244447Z",
     "start_time": "2025-04-11T06:28:58.655687Z"
    }
   },
   "source": [
    "import torch\n",
    "import torch.nn as nn\n",
    "import torch.optim as optim\n",
    "from torch.utils.data import DataLoader\n",
    "from torchvision import datasets,transforms\n",
    "import matplotlib.pyplot as plt\n",
    "import seaborn as sns\n",
    "import matplotlib.pyplot as plt\n",
    "from sklearn.metrics import confusion_matrix\n",
    "import numpy as np"
   ],
   "outputs": [],
   "execution_count": 2
  },
  {
   "cell_type": "markdown",
   "id": "86d55abf11fb6047",
   "metadata": {},
   "source": [
    "## Hyperparameter\n"
   ]
  },
  {
   "cell_type": "code",
   "id": "1f0c96a64c96a6c2",
   "metadata": {
    "ExecuteTime": {
     "end_time": "2025-04-11T06:29:00.987347Z",
     "start_time": "2025-04-11T06:28:59.247340Z"
    }
   },
   "source": [
    "config = {\n",
    "    \"device\": torch.device(\"cuda\" if torch.cuda.is_available() else \"cpu\"),\n",
    "    \"batch_size\" : 64,\n",
    "    \"learning_rate\" : 0.01 ,\n",
    "    \"epochs\":15,\n",
    "}"
   ],
   "outputs": [],
   "execution_count": 3
  },
  {
   "cell_type": "markdown",
   "id": "e306ddf1150228fb",
   "metadata": {},
   "source": [
    "## Dataloader"
   ]
  },
  {
   "cell_type": "code",
   "id": "20c859d7f3a9d937",
   "metadata": {
    "ExecuteTime": {
     "end_time": "2025-04-11T06:29:01.095705Z",
     "start_time": "2025-04-11T06:29:01.031620Z"
    }
   },
   "source": [
    "transform = transforms.Compose([\n",
    "    transforms.ToTensor(),\n",
    "    transforms.Normalize((0.1307,), (0.3081,))\n",
    "])\n",
    "\n",
    "train_dataset = datasets.MNIST(root=\"./data\", train=True, transform=transform, download=True)\n",
    "test_dataset = datasets.MNIST(root=\"./data\", train=False, transform=transform, download=True)\n",
    "train_loader = DataLoader(train_dataset, batch_size=config[\"batch_size\"], shuffle=True)\n",
    "test_loader = DataLoader(test_dataset, batch_size=config[\"batch_size\"], shuffle=True)"
   ],
   "outputs": [],
   "execution_count": 4
  },
  {
   "cell_type": "markdown",
   "id": "7a3f4c1c5ef437cd",
   "metadata": {},
   "source": [
    "## Visualize\n"
   ]
  },
  {
   "cell_type": "code",
   "id": "e84ec92271f1fad5",
   "metadata": {
    "ExecuteTime": {
     "end_time": "2025-04-11T06:29:01.705327Z",
     "start_time": "2025-04-11T06:29:01.105802Z"
    }
   },
   "source": [
    "examples = iter(train_loader)\n",
    "images, labels = next(examples)\n",
    "\n",
    "plt.figure(figsize=(10,10))\n",
    "for i in range(16):\n",
    "    plt.subplot(4, 4, i+1)\n",
    "    plt.imshow(images[i][0], cmap='gray')\n",
    "    # plt.title(f\"Label: {labels[i].item()}\")\n",
    "    plt.title(f\"label:{labels[i]}\")\n",
    "    plt.axis('off')\n",
    "plt.show()\n"
   ],
   "outputs": [
    {
     "data": {
      "text/plain": [
       "<Figure size 1000x1000 with 16 Axes>"
      ],
      "image/png": "[encoded data removed]"
     },
     "metadata": {},
     "output_type": "display_data"
    }
   ],
   "execution_count": 5
  },
  {
   "cell_type": "markdown",
   "id": "14376f7c9f42ca9f",
   "metadata": {},
   "source": [
    "## Model\n"
   ]
  },
  {
   "cell_type": "code",
   "id": "922ce656bc8b0288",
   "metadata": {
    "ExecuteTime": {
     "end_time": "2025-04-11T06:29:05.880339Z",
     "start_time": "2025-04-11T06:29:05.234637Z"
    }
   },
   "source": [
    "import torch.nn as nn\n",
    "\n",
    "class SimpleNN(nn.Module):\n",
    "    def __init__(self):\n",
    "        super(SimpleNN, self).__init__()\n",
    "        self.conv = nn.Sequential(\n",
    "            nn.Conv2d(1, 32, kernel_size=3, padding=1),   # 28x28 → 28x28\n",
    "            nn.BatchNorm2d(32),\n",
    "            nn.LeakyReLU(0.1),\n",
    "            nn.MaxPool2d(2),                              # 28x28 → 14x14\n",
    "\n",
    "            nn.Conv2d(32, 64, kernel_size=3, padding=1),  # 14x14 → 14x14\n",
    "            nn.BatchNorm2d(64),\n",
    "            nn.LeakyReLU(0.1),\n",
    "            nn.MaxPool2d(2),                              # 14x14 → 7x7\n",
    "        )\n",
    "\n",
    "        self.fc = nn.Sequential(\n",
    "            nn.Flatten(),                                 # 展平为 64 * 7 * 7\n",
    "            nn.Linear(64 * 7 * 7, 128),\n",
    "            nn.BatchNorm1d(128),\n",
    "            nn.LeakyReLU(0.1),\n",
    "            nn.Dropout(0.3),\n",
    "\n",
    "            nn.Linear(128, 10)                            # 输出层\n",
    "        )\n",
    "\n",
    "    def forward(self, x):\n",
    "        x = self.conv(x)\n",
    "        x = self.fc(x)\n",
    "        return x\n",
    "\n",
    "model = SimpleNN().to(config[\"device\"])\n"
   ],
   "outputs": [],
   "execution_count": 6
  },
  {
   "metadata": {
    "ExecuteTime": {
     "end_time": "2025-04-11T06:30:17.735737Z",
     "start_time": "2025-04-11T06:30:14.266295Z"
    }
   },
   "cell_type": "code",
   "source": [
    "from torchsummary import summary\n",
    "\n",
    "summary(model, input_size=(1,28,28))"
   ],
   "id": "6a5a545df865d2a3",
   "outputs": [
    {
     "name": "stdout",
     "output_type": "stream",
     "text": [
      "----------------------------------------------------------------\n",
      "        Layer (type)               Output Shape         Param #\n",
      "================================================================\n",
      "            Conv2d-1           [-1, 32, 28, 28]             320\n",
      "       BatchNorm2d-2           [-1, 32, 28, 28]              64\n",
      "         LeakyReLU-3           [-1, 32, 28, 28]               0\n",
      "         MaxPool2d-4           [-1, 32, 14, 14]               0\n",
      "            Conv2d-5           [-1, 64, 14, 14]          18,496\n",
      "       BatchNorm2d-6           [-1, 64, 14, 14]             128\n",
      "         LeakyReLU-7           [-1, 64, 14, 14]               0\n",
      "         MaxPool2d-8             [-1, 64, 7, 7]               0\n",
      "           Flatten-9                 [-1, 3136]               0\n",
      "           Linear-10                  [-1, 128]         401,536\n",
      "      BatchNorm1d-11                  [-1, 128]             256\n",
      "        LeakyReLU-12                  [-1, 128]               0\n",
      "          Dropout-13                  [-1, 128]               0\n",
      "           Linear-14                   [-1, 10]           1,290\n",
      "================================================================\n",
      "Total params: 422,090\n",
      "Trainable params: 422,090\n",
      "Non-trainable params: 0\n",
      "----------------------------------------------------------------\n",
      "Input size (MB): 0.00\n",
      "Forward/backward pass size (MB): 0.96\n",
      "Params size (MB): 1.61\n",
      "Estimated Total Size (MB): 2.57\n",
      "----------------------------------------------------------------\n"
     ]
    }
   ],
   "execution_count": 9
  },
  {
   "cell_type": "markdown",
   "id": "587b7d94024bf762",
   "metadata": {},
   "source": [
    "## Loss Function and Optimizer"
   ]
  },
  {
   "cell_type": "code",
   "id": "1ff40abcf4489314",
   "metadata": {
    "ExecuteTime": {
     "end_time": "2025-04-11T06:30:29.628196Z",
     "start_time": "2025-04-11T06:30:29.620857Z"
    }
   },
   "source": [
    "criterion = nn.CrossEntropyLoss()\n",
    "optimizer = optim.Adam(model.parameters(), lr=config[\"learning_rate\"])"
   ],
   "outputs": [],
   "execution_count": 10
  },
  {
   "cell_type": "markdown",
   "id": "d326aac5682052e",
   "metadata": {},
   "source": [
    "## Trainig loop"
   ]
  },
  {
   "cell_type": "code",
   "id": "4211cc6369d3b327",
   "metadata": {
    "ExecuteTime": {
     "end_time": "2025-04-11T06:33:52.243125Z",
     "start_time": "2025-04-11T06:30:33.766660Z"
    }
   },
   "source": [
    "from tqdm import tqdm\n",
    "\n",
    "best_acc = 0.0  # 当前最优准确率\n",
    "\n",
    "for epoch in range(config[\"epochs\"]):\n",
    "    total_loss = 0.0\n",
    "    model.train()\n",
    "\n",
    "    print(f\"\\n🔄 Epoch {epoch+1}/{config['epochs']}\")\n",
    "    train_bar = tqdm(train_loader, desc=\"Training\", dynamic_ncols=True, leave=False)\n",
    "\n",
    "    for images, labels in train_bar:\n",
    "        images, labels = images.to(config[\"device\"]), labels.to(config[\"device\"])\n",
    "\n",
    "        outputs = model(images)\n",
    "        loss = criterion(outputs, labels)\n",
    "\n",
    "        optimizer.zero_grad()\n",
    "        loss.backward()\n",
    "        optimizer.step()\n",
    "\n",
    "        total_loss += loss.item()\n",
    "        train_bar.set_postfix(loss=loss.item())\n",
    "\n",
    "    avg_loss = total_loss / len(train_loader)\n",
    "    print(f\"✅ Epoch {epoch+1} finished. Average Loss: {avg_loss:.4f}\")\n",
    "\n",
    "    # =============== 验证集评估（可用 test_loader） ===============\n",
    "    model.eval()\n",
    "    total = 0\n",
    "    correct = 0\n",
    "    with torch.no_grad():\n",
    "        for images, labels in test_loader:\n",
    "            images, labels = images.to(config[\"device\"]), labels.to(config[\"device\"])\n",
    "            outputs = model(images)\n",
    "            _, predicted = torch.max(outputs, 1)\n",
    "            total += labels.size(0)\n",
    "            correct += (predicted == labels).sum().item()\n",
    "\n",
    "    acc = correct / total\n",
    "    print(f\"📊 Test Accuracy after Epoch {epoch+1}: {acc*100:.2f}%\")\n",
    "\n",
    "    # =============== 保存最好的模型 ===============\n",
    "    if acc > best_acc:\n",
    "        best_acc = acc\n",
    "        torch.save(model.state_dict(), \"best_model.pth\")\n",
    "        print(\"💾 Saved new best model!\")\n",
    "\n",
    "print(f\"\\n🏁 Training done. Best Accuracy: {best_acc*100:.2f}%\")\n"
   ],
   "outputs": [
    {
     "name": "stdout",
     "output_type": "stream",
     "text": [
      "\n",
      "🔄 Epoch 1/15\n"
     ]
    },
    {
     "name": "stderr",
     "output_type": "stream",
     "text": [
      "                                                                         \r"
     ]
    },
    {
     "name": "stdout",
     "output_type": "stream",
     "text": [
      "✅ Epoch 1 finished. Average Loss: 0.1167\n",
      "📊 Test Accuracy after Epoch 1: 98.49%\n",
      "💾 Saved new best model!\n",
      "\n",
      "🔄 Epoch 2/15\n"
     ]
    },
    {
     "name": "stderr",
     "output_type": "stream",
     "text": [
      "                                                                         \r"
     ]
    },
    {
     "name": "stdout",
     "output_type": "stream",
     "text": [
      "✅ Epoch 2 finished. Average Loss: 0.0554\n",
      "📊 Test Accuracy after Epoch 2: 98.60%\n",
      "💾 Saved new best model!\n",
      "\n",
      "🔄 Epoch 3/15\n"
     ]
    },
    {
     "name": "stderr",
     "output_type": "stream",
     "text": [
      "                                                                          \r"
     ]
    },
    {
     "name": "stdout",
     "output_type": "stream",
     "text": [
      "✅ Epoch 3 finished. Average Loss: 0.0448\n",
      "📊 Test Accuracy after Epoch 3: 98.91%\n",
      "💾 Saved new best model!\n",
      "\n",
      "🔄 Epoch 4/15\n"
     ]
    },
    {
     "name": "stderr",
     "output_type": "stream",
     "text": [
      "                                                                          \r"
     ]
    },
    {
     "name": "stdout",
     "output_type": "stream",
     "text": [
      "✅ Epoch 4 finished. Average Loss: 0.0380\n",
      "📊 Test Accuracy after Epoch 4: 98.96%\n",
      "💾 Saved new best model!\n",
      "\n",
      "🔄 Epoch 5/15\n"
     ]
    },
    {
     "name": "stderr",
     "output_type": "stream",
     "text": [
      "                                                                          \r"
     ]
    },
    {
     "name": "stdout",
     "output_type": "stream",
     "text": [
      "✅ Epoch 5 finished. Average Loss: 0.0361\n",
      "📊 Test Accuracy after Epoch 5: 98.97%\n",
      "💾 Saved new best model!\n",
      "\n",
      "🔄 Epoch 6/15\n"
     ]
    },
    {
     "name": "stderr",
     "output_type": "stream",
     "text": [
      "                                                                          \r"
     ]
    },
    {
     "name": "stdout",
     "output_type": "stream",
     "text": [
      "✅ Epoch 6 finished. Average Loss: 0.0304\n",
      "📊 Test Accuracy after Epoch 6: 98.87%\n",
      "\n",
      "🔄 Epoch 7/15\n"
     ]
    },
    {
     "name": "stderr",
     "output_type": "stream",
     "text": [
      "                                                                          \r"
     ]
    },
    {
     "name": "stdout",
     "output_type": "stream",
     "text": [
      "✅ Epoch 7 finished. Average Loss: 0.0260\n",
      "📊 Test Accuracy after Epoch 7: 99.11%\n",
      "💾 Saved new best model!\n",
      "\n",
      "🔄 Epoch 8/15\n"
     ]
    },
    {
     "name": "stderr",
     "output_type": "stream",
     "text": [
      "                                                                          \r"
     ]
    },
    {
     "name": "stdout",
     "output_type": "stream",
     "text": [
      "✅ Epoch 8 finished. Average Loss: 0.0248\n",
      "📊 Test Accuracy after Epoch 8: 98.98%\n",
      "\n",
      "🔄 Epoch 9/15\n"
     ]
    },
    {
     "name": "stderr",
     "output_type": "stream",
     "text": [
      "                                                                          \r"
     ]
    },
    {
     "name": "stdout",
     "output_type": "stream",
     "text": [
      "✅ Epoch 9 finished. Average Loss: 0.0255\n",
      "📊 Test Accuracy after Epoch 9: 99.01%\n",
      "\n",
      "🔄 Epoch 10/15\n"
     ]
    },
    {
     "name": "stderr",
     "output_type": "stream",
     "text": [
      "                                                                          \r"
     ]
    },
    {
     "name": "stdout",
     "output_type": "stream",
     "text": [
      "✅ Epoch 10 finished. Average Loss: 0.0197\n",
      "📊 Test Accuracy after Epoch 10: 99.23%\n",
      "💾 Saved new best model!\n",
      "\n",
      "🔄 Epoch 11/15\n"
     ]
    },
    {
     "name": "stderr",
     "output_type": "stream",
     "text": [
      "                                                                          \r"
     ]
    },
    {
     "name": "stdout",
     "output_type": "stream",
     "text": [
      "✅ Epoch 11 finished. Average Loss: 0.0207\n",
      "📊 Test Accuracy after Epoch 11: 99.16%\n",
      "\n",
      "🔄 Epoch 12/15\n"
     ]
    },
    {
     "name": "stderr",
     "output_type": "stream",
     "text": [
      "                                                                          \r"
     ]
    },
    {
     "name": "stdout",
     "output_type": "stream",
     "text": [
      "✅ Epoch 12 finished. Average Loss: 0.0209\n",
      "📊 Test Accuracy after Epoch 12: 99.19%\n",
      "\n",
      "🔄 Epoch 13/15\n"
     ]
    },
    {
     "name": "stderr",
     "output_type": "stream",
     "text": [
      "                                                                          \r"
     ]
    },
    {
     "name": "stdout",
     "output_type": "stream",
     "text": [
      "✅ Epoch 13 finished. Average Loss: 0.0170\n",
      "📊 Test Accuracy after Epoch 13: 99.24%\n",
      "💾 Saved new best model!\n",
      "\n",
      "🔄 Epoch 14/15\n"
     ]
    },
    {
     "name": "stderr",
     "output_type": "stream",
     "text": [
      "                                                                          \r"
     ]
    },
    {
     "name": "stdout",
     "output_type": "stream",
     "text": [
      "✅ Epoch 14 finished. Average Loss: 0.0167\n",
      "📊 Test Accuracy after Epoch 14: 99.19%\n",
      "\n",
      "🔄 Epoch 15/15\n"
     ]
    },
    {
     "name": "stderr",
     "output_type": "stream",
     "text": [
      "                                                                          \r"
     ]
    },
    {
     "name": "stdout",
     "output_type": "stream",
     "text": [
      "✅ Epoch 15 finished. Average Loss: 0.0159\n",
      "📊 Test Accuracy after Epoch 15: 99.20%\n",
      "\n",
      "🏁 Training done. Best Accuracy: 99.24%\n"
     ]
    }
   ],
   "execution_count": 11
  },
  {
   "cell_type": "markdown",
   "id": "f958bb3e4abea1e0",
   "metadata": {},
   "source": [
    "## Testing"
   ]
  },
  {
   "cell_type": "code",
   "id": "68cbdd0b0c9dbc2e",
   "metadata": {
    "ExecuteTime": {
     "end_time": "2025-04-11T06:33:57.462006Z",
     "start_time": "2025-04-11T06:33:56.213511Z"
    }
   },
   "source": [
    "with torch.no_grad():\n",
    "    total = 0\n",
    "    correct = 0\n",
    "    model.eval()\n",
    "    for images, labels in tqdm(test_loader, desc=\"Testing\", dynamic_ncols=True, leave=False):\n",
    "        images, labels = images.to(config[\"device\"]),labels.to(config[\"device\"])\n",
    "        outputs = model(images)\n",
    "        _, predicted = torch.max(outputs.data, 1)\n",
    "        total += labels.size(0)\n",
    "        correct += (predicted == labels).sum().item()\n",
    "\n",
    "    print(f\"Test Accuracy: {100 * correct / total:.2f}%\")"
   ],
   "outputs": [
    {
     "name": "stderr",
     "output_type": "stream",
     "text": [
      "                                                           "
     ]
    },
    {
     "name": "stdout",
     "output_type": "stream",
     "text": [
      "Test Accuracy: 99.20%\n"
     ]
    },
    {
     "name": "stderr",
     "output_type": "stream",
     "text": [
      "\r"
     ]
    }
   ],
   "execution_count": 12
  },
  {
   "cell_type": "markdown",
   "id": "cc722e35d6b1cf82",
   "metadata": {},
   "source": [
    "## Saving Model"
   ]
  },
  {
   "cell_type": "code",
   "id": "7c4e50827e3c022d",
   "metadata": {
    "ExecuteTime": {
     "end_time": "2025-04-11T06:33:59.764051Z",
     "start_time": "2025-04-11T06:33:59.752393Z"
    }
   },
   "source": "# torch.save(model.state_dict(), \"model.pth\")",
   "outputs": [],
   "execution_count": 13
  },
  {
   "cell_type": "markdown",
   "id": "55fd14e9d711ff00",
   "metadata": {},
   "source": [
    "## Load Model and Predict"
   ]
  },
  {
   "cell_type": "code",
   "id": "a3208681840e8ff5",
   "metadata": {
    "ExecuteTime": {
     "end_time": "2025-04-11T06:34:02.399413Z",
     "start_time": "2025-04-11T06:34:02.376588Z"
    }
   },
   "source": [
    "model.load_state_dict(torch.load(\"model.pth\"))\n",
    "model.eval()\n",
    "\n",
    "images, labels = next(iter(test_loader))\n",
    "images, labels = images.to(config[\"device\"]),labels.to(config[\"device\"])\n",
    "outputs = model(images)\n",
    "_, predicted = torch.max(outputs.data, 1)\n",
    "print(f\"Test Accuracy: {100 * correct / total:.2f}%\")"
   ],
   "outputs": [
    {
     "name": "stdout",
     "output_type": "stream",
     "text": [
      "Test Accuracy: 99.20%\n"
     ]
    }
   ],
   "execution_count": 14
  },
  {
   "cell_type": "markdown",
   "id": "95449dd7ddd07c58",
   "metadata": {},
   "source": [
    "## Visualize"
   ]
  },
  {
   "cell_type": "code",
   "id": "13c2a73b06fd21b9",
   "metadata": {
    "ExecuteTime": {
     "end_time": "2025-04-11T06:34:06.697416Z",
     "start_time": "2025-04-11T06:34:05.073917Z"
    }
   },
   "source": [
    "model.eval()\n",
    "\n",
    "all_preds = []\n",
    "all_labels = []\n",
    "\n",
    "with torch.no_grad():\n",
    "    for images, labels in test_loader:\n",
    "        images, labels = images.to(config[\"device\"]), labels.to(config[\"device\"])\n",
    "        outputs = model(images)\n",
    "        _, preds = torch.max(outputs, 1)\n",
    "\n",
    "        all_preds.extend(preds.cpu().numpy())\n",
    "        all_labels.extend(labels.cpu().numpy())\n",
    "\n",
    "# calculate\n",
    "cm = confusion_matrix(all_labels, all_preds)\n",
    "\n",
    "# Visualize\n",
    "plt.figure(figsize=(20, 20))\n",
    "sns.heatmap(cm, annot=True, fmt=\"d\", cmap=\"Blues\", xticklabels=range(10), yticklabels=range(10))\n",
    "plt.xlabel(\"Predicted Label\")\n",
    "plt.ylabel(\"True Label\")\n",
    "plt.title(\"Confusion Matrix\")\n",
    "plt.show()\n"
   ],
   "outputs": [
    {
     "data": {
      "text/plain": [
       "<Figure size 2000x2000 with 2 Axes>"
      ],
      "image/png": "[encoded data removed]"
     },
     "metadata": {},
     "output_type": "display_data"
    }
   ],
   "execution_count": 15
  }
 ],
 "metadata": {
  "kernelspec": {
   "display_name": "Python 3 (ipykernel)",
   "language": "python",
   "name": "python3"
  },
  "language_info": {
   "codemirror_mode": {
    "name": "ipython",
    "version": 3
   },
   "file_extension": ".py",
   "mimetype": "text/x-python",
   "name": "python",
   "nbconvert_exporter": "python",
   "pygments_lexer": "ipython3",
   "version": "3.10.11"
  }
 },
 "nbformat": 4,
 "nbformat_minor": 5
}
