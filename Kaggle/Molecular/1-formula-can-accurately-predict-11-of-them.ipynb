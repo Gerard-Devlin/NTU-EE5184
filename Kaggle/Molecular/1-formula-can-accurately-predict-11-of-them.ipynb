{
 "cells": [
  {
   "cell_type": "markdown",
   "id": "1f367df1",
   "metadata": {
    "_cell_guid": "b1076dfc-b9ad-4769-8c92-a6c4dae69d19",
    "_uuid": "8f2839f25d086af736a60e9eeb907d3b93b6e0e5",
    "execution": {
     "iopub.execute_input": "2025-03-24T13:59:52.246955Z",
     "iopub.status.busy": "2025-03-24T13:59:52.246304Z",
     "iopub.status.idle": "2025-03-24T14:00:00.213208Z",
     "shell.execute_reply": "2025-03-24T14:00:00.21203Z",
     "shell.execute_reply.started": "2025-03-24T13:59:52.246919Z"
    },
    "papermill": {
     "duration": 0.004203,
     "end_time": "2025-03-27T08:38:40.263792",
     "exception": false,
     "start_time": "2025-03-27T08:38:40.259589",
     "status": "completed"
    },
    "tags": []
   },
   "source": [
    "## Import library"
   ]
  },
  {
   "cell_type": "code",
   "id": "922b1b49",
   "metadata": {
    "execution": {
     "iopub.execute_input": "2025-03-27T08:38:40.272293Z",
     "iopub.status.busy": "2025-03-27T08:38:40.271951Z",
     "iopub.status.idle": "2025-03-27T08:38:48.389604Z",
     "shell.execute_reply": "2025-03-27T08:38:48.388244Z"
    },
    "papermill": {
     "duration": 8.124063,
     "end_time": "2025-03-27T08:38:48.391642",
     "exception": false,
     "start_time": "2025-03-27T08:38:40.267579",
     "status": "completed"
    },
    "tags": [],
    "ExecuteTime": {
     "end_time": "2025-04-17T13:46:41.248981Z",
     "start_time": "2025-04-17T13:46:35.920349Z"
    }
   },
   "source": [
    "\n",
    "!pip install rdkit\n",
    "from rdkit.Chem import AllChem\n",
    "from rdkit.Chem import Descriptors, rdMolDescriptors\n",
    "from rdkit import Chem"
   ],
   "outputs": [
    {
     "name": "stderr",
     "output_type": "stream",
     "text": [
      "DEPRECATION: omegaconf 2.0.6 has a non-standard dependency specifier PyYAML>=5.1.*. pip 24.1 will enforce this behaviour change. A possible replacement is to upgrade to a newer version of omegaconf or contact the author to suggest that they release a version with a conforming dependency specifiers. Discussion can be found at https://github.com/pypa/pip/issues/12063\n",
      "\n",
      "[notice] A new release of pip is available: 24.0 -> 25.0.1\n",
      "[notice] To update, run: python.exe -m pip install --upgrade pip\n"
     ]
    },
    {
     "name": "stdout",
     "output_type": "stream",
     "text": [
      "Looking in indexes: https://mirrors.aliyun.com/pypi/simple/\n",
      "Requirement already satisfied: rdkit in d:\\.venv\\lib\\site-packages (2024.9.6)\n",
      "Requirement already satisfied: numpy in d:\\.venv\\lib\\site-packages (from rdkit) (1.24.4)\n",
      "Requirement already satisfied: Pillow in d:\\.venv\\lib\\site-packages (from rdkit) (11.1.0)\n"
     ]
    }
   ],
   "execution_count": 2
  },
  {
   "cell_type": "code",
   "id": "6d8501f7",
   "metadata": {
    "execution": {
     "iopub.execute_input": "2025-03-27T08:38:48.400348Z",
     "iopub.status.busy": "2025-03-27T08:38:48.399922Z",
     "iopub.status.idle": "2025-03-27T08:38:50.474586Z",
     "shell.execute_reply": "2025-03-27T08:38:50.473703Z"
    },
    "papermill": {
     "duration": 2.081022,
     "end_time": "2025-03-27T08:38:50.476490",
     "exception": false,
     "start_time": "2025-03-27T08:38:48.395468",
     "status": "completed"
    },
    "tags": [],
    "ExecuteTime": {
     "end_time": "2025-04-17T13:46:48.931858Z",
     "start_time": "2025-04-17T13:46:41.251205Z"
    }
   },
   "source": [
    "import pandas as pd\n",
    "import numpy as np\n",
    "import random\n",
    "from sklearn.metrics import mean_squared_log_error\n",
    "import warnings\n",
    "warnings.filterwarnings('ignore')"
   ],
   "outputs": [],
   "execution_count": 3
  },
  {
   "cell_type": "code",
   "id": "f8655f38",
   "metadata": {
    "execution": {
     "iopub.execute_input": "2025-03-27T08:38:50.485058Z",
     "iopub.status.busy": "2025-03-27T08:38:50.484583Z",
     "iopub.status.idle": "2025-03-27T08:38:50.531354Z",
     "shell.execute_reply": "2025-03-27T08:38:50.530220Z"
    },
    "papermill": {
     "duration": 0.053133,
     "end_time": "2025-03-27T08:38:50.533318",
     "exception": false,
     "start_time": "2025-03-27T08:38:50.480185",
     "status": "completed"
    },
    "tags": [],
    "ExecuteTime": {
     "end_time": "2025-04-17T13:46:49.004368Z",
     "start_time": "2025-04-17T13:46:48.975461Z"
    }
   },
   "source": [
    "train = pd.read_csv('train.csv')\n",
    "test= pd.read_csv('test.csv')"
   ],
   "outputs": [],
   "execution_count": 4
  },
  {
   "cell_type": "code",
   "id": "62a03518",
   "metadata": {
    "execution": {
     "iopub.execute_input": "2025-03-27T08:38:50.542029Z",
     "iopub.status.busy": "2025-03-27T08:38:50.541690Z",
     "iopub.status.idle": "2025-03-27T08:38:50.599522Z",
     "shell.execute_reply": "2025-03-27T08:38:50.598519Z"
    },
    "papermill": {
     "duration": 0.06394,
     "end_time": "2025-03-27T08:38:50.601233",
     "exception": false,
     "start_time": "2025-03-27T08:38:50.537293",
     "status": "completed"
    },
    "tags": [],
    "ExecuteTime": {
     "end_time": "2025-04-17T13:46:49.072584Z",
     "start_time": "2025-04-17T13:46:49.032426Z"
    }
   },
   "source": [
    "display(train.head(3))\n",
    "display(test.head(3))"
   ],
   "outputs": [
    {
     "data": {
      "text/plain": [
       "   Batch_ID     T80                                             Smiles  \\\n",
       "0  Train-01  103.86             CCCCCCCCCCCCc1ccsc1-c1ccc(-c2cccs2)cc1   \n",
       "1  Train-02  101.13                        CCCCCCCCCCCCc1ccsc1-c1cccs1   \n",
       "2  Train-03   78.30  CN1CCN(S(=O)(=O)c2ccc(-c3ccc(-c4cccs4)cc3)cc2)CC1   \n",
       "\n",
       "      Mass  HAcceptors  HDonors    LogP  Asphericity        Rg   TPSA  ...  \\\n",
       "0  410.692           2        0  9.6070     0.301361  5.187321   0.00  ...   \n",
       "1  334.594           2        0  7.9400     0.367472  4.141425   0.00  ...   \n",
       "2  398.553           4        0  4.0182     0.799589  5.368024  40.62  ...   \n",
       "\n",
       "    SDOS4.5   SDOS4.6   SDOS4.7   SDOS4.8   SDOS4.9   SDOS5.0   SDOS5.1  \\\n",
       "0  1.717761  1.970186  1.760071  1.224983  0.664733  0.282353  0.096763   \n",
       "1  0.012396  0.046031  0.133124  0.299840  0.525958  0.718549  0.764711   \n",
       "2  2.421162  2.703267  2.352276  1.595867  0.845839  0.354620  0.127878   \n",
       "\n",
       "    SDOS5.2   SDOS5.3   SDOS5.4  \n",
       "0  0.034589  0.030793  0.057340  \n",
       "1  0.634854  0.414866  0.225909  \n",
       "2  0.060600  0.064782  0.098908  \n",
       "\n",
       "[3 rows x 146 columns]"
      ],
      "text/html": [
       "<div>\n",
       "<style scoped>\n",
       "    .dataframe tbody tr th:only-of-type {\n",
       "        vertical-align: middle;\n",
       "    }\n",
       "\n",
       "    .dataframe tbody tr th {\n",
       "        vertical-align: top;\n",
       "    }\n",
       "\n",
       "    .dataframe thead th {\n",
       "        text-align: right;\n",
       "    }\n",
       "</style>\n",
       "<table border=\"1\" class=\"dataframe\">\n",
       "  <thead>\n",
       "    <tr style=\"text-align: right;\">\n",
       "      <th></th>\n",
       "      <th>Batch_ID</th>\n",
       "      <th>T80</th>\n",
       "      <th>Smiles</th>\n",
       "      <th>Mass</th>\n",
       "      <th>HAcceptors</th>\n",
       "      <th>HDonors</th>\n",
       "      <th>LogP</th>\n",
       "      <th>Asphericity</th>\n",
       "      <th>Rg</th>\n",
       "      <th>TPSA</th>\n",
       "      <th>...</th>\n",
       "      <th>SDOS4.5</th>\n",
       "      <th>SDOS4.6</th>\n",
       "      <th>SDOS4.7</th>\n",
       "      <th>SDOS4.8</th>\n",
       "      <th>SDOS4.9</th>\n",
       "      <th>SDOS5.0</th>\n",
       "      <th>SDOS5.1</th>\n",
       "      <th>SDOS5.2</th>\n",
       "      <th>SDOS5.3</th>\n",
       "      <th>SDOS5.4</th>\n",
       "    </tr>\n",
       "  </thead>\n",
       "  <tbody>\n",
       "    <tr>\n",
       "      <th>0</th>\n",
       "      <td>Train-01</td>\n",
       "      <td>103.86</td>\n",
       "      <td>CCCCCCCCCCCCc1ccsc1-c1ccc(-c2cccs2)cc1</td>\n",
       "      <td>410.692</td>\n",
       "      <td>2</td>\n",
       "      <td>0</td>\n",
       "      <td>9.6070</td>\n",
       "      <td>0.301361</td>\n",
       "      <td>5.187321</td>\n",
       "      <td>0.00</td>\n",
       "      <td>...</td>\n",
       "      <td>1.717761</td>\n",
       "      <td>1.970186</td>\n",
       "      <td>1.760071</td>\n",
       "      <td>1.224983</td>\n",
       "      <td>0.664733</td>\n",
       "      <td>0.282353</td>\n",
       "      <td>0.096763</td>\n",
       "      <td>0.034589</td>\n",
       "      <td>0.030793</td>\n",
       "      <td>0.057340</td>\n",
       "    </tr>\n",
       "    <tr>\n",
       "      <th>1</th>\n",
       "      <td>Train-02</td>\n",
       "      <td>101.13</td>\n",
       "      <td>CCCCCCCCCCCCc1ccsc1-c1cccs1</td>\n",
       "      <td>334.594</td>\n",
       "      <td>2</td>\n",
       "      <td>0</td>\n",
       "      <td>7.9400</td>\n",
       "      <td>0.367472</td>\n",
       "      <td>4.141425</td>\n",
       "      <td>0.00</td>\n",
       "      <td>...</td>\n",
       "      <td>0.012396</td>\n",
       "      <td>0.046031</td>\n",
       "      <td>0.133124</td>\n",
       "      <td>0.299840</td>\n",
       "      <td>0.525958</td>\n",
       "      <td>0.718549</td>\n",
       "      <td>0.764711</td>\n",
       "      <td>0.634854</td>\n",
       "      <td>0.414866</td>\n",
       "      <td>0.225909</td>\n",
       "    </tr>\n",
       "    <tr>\n",
       "      <th>2</th>\n",
       "      <td>Train-03</td>\n",
       "      <td>78.30</td>\n",
       "      <td>CN1CCN(S(=O)(=O)c2ccc(-c3ccc(-c4cccs4)cc3)cc2)CC1</td>\n",
       "      <td>398.553</td>\n",
       "      <td>4</td>\n",
       "      <td>0</td>\n",
       "      <td>4.0182</td>\n",
       "      <td>0.799589</td>\n",
       "      <td>5.368024</td>\n",
       "      <td>40.62</td>\n",
       "      <td>...</td>\n",
       "      <td>2.421162</td>\n",
       "      <td>2.703267</td>\n",
       "      <td>2.352276</td>\n",
       "      <td>1.595867</td>\n",
       "      <td>0.845839</td>\n",
       "      <td>0.354620</td>\n",
       "      <td>0.127878</td>\n",
       "      <td>0.060600</td>\n",
       "      <td>0.064782</td>\n",
       "      <td>0.098908</td>\n",
       "    </tr>\n",
       "  </tbody>\n",
       "</table>\n",
       "<p>3 rows × 146 columns</p>\n",
       "</div>"
      ]
     },
     "metadata": {},
     "output_type": "display_data"
    },
    {
     "data": {
      "text/plain": [
       "  Batch_ID  T80                                           Smiles     Mass  \\\n",
       "0  Test-01  NaN                COC(=O)c3ccc(c2ccc(c1ccco1)cc2)s3  284.336   \n",
       "1  Test-02  NaN  CCCCCCc2c(CCCCCC)c(c1cccs1)sc2c3ccc(C(=O)OC)cc3  468.728   \n",
       "2  Test-03  NaN           COC(=O)c3ccc(c2ccc(c1cccc(OC)c1)cc2)s3  324.401   \n",
       "\n",
       "   HAcceptors  HDonors    LogP  Asphericity        Rg   TPSA  ...   SDOS4.5  \\\n",
       "0           4        0  4.4617     0.796737  4.323524  39.44  ...  0.709932   \n",
       "1           4        0  9.1758     0.268870  5.019005  26.30  ...  1.913133   \n",
       "2           4        0  4.8773     0.846029  4.976660  35.53  ...  2.302484   \n",
       "\n",
       "    SDOS4.6   SDOS4.7   SDOS4.8   SDOS4.9   SDOS5.0   SDOS5.1   SDOS5.2  \\\n",
       "0  0.266678  0.078569  0.020244  0.011813  0.025880  0.061288  0.118430   \n",
       "1  1.823127  1.356344  0.797689  0.399819  0.236639  0.250003  0.343148   \n",
       "2  1.460937  0.729424  0.299914  0.124335  0.079533  0.080611  0.097277   \n",
       "\n",
       "    SDOS5.3   SDOS5.4  \n",
       "0  0.181805  0.220200  \n",
       "1  0.426963  0.445557  \n",
       "2  0.129095  0.178570  \n",
       "\n",
       "[3 rows x 146 columns]"
      ],
      "text/html": [
       "<div>\n",
       "<style scoped>\n",
       "    .dataframe tbody tr th:only-of-type {\n",
       "        vertical-align: middle;\n",
       "    }\n",
       "\n",
       "    .dataframe tbody tr th {\n",
       "        vertical-align: top;\n",
       "    }\n",
       "\n",
       "    .dataframe thead th {\n",
       "        text-align: right;\n",
       "    }\n",
       "</style>\n",
       "<table border=\"1\" class=\"dataframe\">\n",
       "  <thead>\n",
       "    <tr style=\"text-align: right;\">\n",
       "      <th></th>\n",
       "      <th>Batch_ID</th>\n",
       "      <th>T80</th>\n",
       "      <th>Smiles</th>\n",
       "      <th>Mass</th>\n",
       "      <th>HAcceptors</th>\n",
       "      <th>HDonors</th>\n",
       "      <th>LogP</th>\n",
       "      <th>Asphericity</th>\n",
       "      <th>Rg</th>\n",
       "      <th>TPSA</th>\n",
       "      <th>...</th>\n",
       "      <th>SDOS4.5</th>\n",
       "      <th>SDOS4.6</th>\n",
       "      <th>SDOS4.7</th>\n",
       "      <th>SDOS4.8</th>\n",
       "      <th>SDOS4.9</th>\n",
       "      <th>SDOS5.0</th>\n",
       "      <th>SDOS5.1</th>\n",
       "      <th>SDOS5.2</th>\n",
       "      <th>SDOS5.3</th>\n",
       "      <th>SDOS5.4</th>\n",
       "    </tr>\n",
       "  </thead>\n",
       "  <tbody>\n",
       "    <tr>\n",
       "      <th>0</th>\n",
       "      <td>Test-01</td>\n",
       "      <td>NaN</td>\n",
       "      <td>COC(=O)c3ccc(c2ccc(c1ccco1)cc2)s3</td>\n",
       "      <td>284.336</td>\n",
       "      <td>4</td>\n",
       "      <td>0</td>\n",
       "      <td>4.4617</td>\n",
       "      <td>0.796737</td>\n",
       "      <td>4.323524</td>\n",
       "      <td>39.44</td>\n",
       "      <td>...</td>\n",
       "      <td>0.709932</td>\n",
       "      <td>0.266678</td>\n",
       "      <td>0.078569</td>\n",
       "      <td>0.020244</td>\n",
       "      <td>0.011813</td>\n",
       "      <td>0.025880</td>\n",
       "      <td>0.061288</td>\n",
       "      <td>0.118430</td>\n",
       "      <td>0.181805</td>\n",
       "      <td>0.220200</td>\n",
       "    </tr>\n",
       "    <tr>\n",
       "      <th>1</th>\n",
       "      <td>Test-02</td>\n",
       "      <td>NaN</td>\n",
       "      <td>CCCCCCc2c(CCCCCC)c(c1cccs1)sc2c3ccc(C(=O)OC)cc3</td>\n",
       "      <td>468.728</td>\n",
       "      <td>4</td>\n",
       "      <td>0</td>\n",
       "      <td>9.1758</td>\n",
       "      <td>0.268870</td>\n",
       "      <td>5.019005</td>\n",
       "      <td>26.30</td>\n",
       "      <td>...</td>\n",
       "      <td>1.913133</td>\n",
       "      <td>1.823127</td>\n",
       "      <td>1.356344</td>\n",
       "      <td>0.797689</td>\n",
       "      <td>0.399819</td>\n",
       "      <td>0.236639</td>\n",
       "      <td>0.250003</td>\n",
       "      <td>0.343148</td>\n",
       "      <td>0.426963</td>\n",
       "      <td>0.445557</td>\n",
       "    </tr>\n",
       "    <tr>\n",
       "      <th>2</th>\n",
       "      <td>Test-03</td>\n",
       "      <td>NaN</td>\n",
       "      <td>COC(=O)c3ccc(c2ccc(c1cccc(OC)c1)cc2)s3</td>\n",
       "      <td>324.401</td>\n",
       "      <td>4</td>\n",
       "      <td>0</td>\n",
       "      <td>4.8773</td>\n",
       "      <td>0.846029</td>\n",
       "      <td>4.976660</td>\n",
       "      <td>35.53</td>\n",
       "      <td>...</td>\n",
       "      <td>2.302484</td>\n",
       "      <td>1.460937</td>\n",
       "      <td>0.729424</td>\n",
       "      <td>0.299914</td>\n",
       "      <td>0.124335</td>\n",
       "      <td>0.079533</td>\n",
       "      <td>0.080611</td>\n",
       "      <td>0.097277</td>\n",
       "      <td>0.129095</td>\n",
       "      <td>0.178570</td>\n",
       "    </tr>\n",
       "  </tbody>\n",
       "</table>\n",
       "<p>3 rows × 146 columns</p>\n",
       "</div>"
      ]
     },
     "metadata": {},
     "output_type": "display_data"
    }
   ],
   "execution_count": 5
  },
  {
   "cell_type": "markdown",
   "id": "2f534245",
   "metadata": {
    "papermill": {
     "duration": 0.003833,
     "end_time": "2025-03-27T08:38:50.609232",
     "exception": false,
     "start_time": "2025-03-27T08:38:50.605399",
     "status": "completed"
    },
    "tags": []
   },
   "source": [
    "## RDKit Feature Generating"
   ]
  },
  {
   "cell_type": "code",
   "id": "ac2e496a",
   "metadata": {
    "execution": {
     "iopub.execute_input": "2025-03-27T08:38:50.618702Z",
     "iopub.status.busy": "2025-03-27T08:38:50.618335Z",
     "iopub.status.idle": "2025-03-27T08:39:06.303147Z",
     "shell.execute_reply": "2025-03-27T08:39:06.302235Z"
    },
    "papermill": {
     "duration": 15.691763,
     "end_time": "2025-03-27T08:39:06.305114",
     "exception": false,
     "start_time": "2025-03-27T08:38:50.613351",
     "status": "completed"
    },
    "tags": [],
    "ExecuteTime": {
     "end_time": "2025-04-17T13:48:35.163732Z",
     "start_time": "2025-04-17T13:48:26.139373Z"
    }
   },
   "source": [
    "def gen_rdkit(df):\n",
    "    smiles = df.Smiles\n",
    "    RDKitProp = np.zeros(((smiles.shape[0]),10),dtype = float)\n",
    "    for d_key, smile in enumerate(smiles):\n",
    "        #Turns the smiles string into a 3D structure with hydrogens\n",
    "        mol3d = Chem.AddHs(Chem.MolFromSmiles(smile))\n",
    "        #Actually creates the molecules\n",
    "        AllChem.EmbedMolecule(mol3d,randomSeed=random.randint(1,1000000))\n",
    "        #Optimizes it with the MMFF force-field\n",
    "        #Note: Force-fields in OpenBabel don't have selenium\n",
    "        AllChem.MMFFOptimizeMolecule(mol3d)\n",
    "        RDKitProp[d_key,0] = Descriptors.MolWt(mol3d)\n",
    "        RDKitProp[d_key,1] = rdMolDescriptors.CalcNumHBA(mol3d)\n",
    "        RDKitProp[d_key,2] = rdMolDescriptors.CalcNumHBD(mol3d)\n",
    "        RDKitProp[d_key,3] = Descriptors.MolLogP(mol3d)\n",
    "        RDKitProp[d_key,4] = rdMolDescriptors.CalcAsphericity(mol3d)\n",
    "        RDKitProp[d_key,5] = rdMolDescriptors.CalcRadiusOfGyration(mol3d)\n",
    "        RDKitProp[d_key,6] = Descriptors.TPSA(mol3d)\n",
    "        RDKitProp[d_key,7] = rdMolDescriptors.CalcNumRings(mol3d)\n",
    "        RDKitProp[d_key,8] = rdMolDescriptors.CalcNumRotatableBonds(mol3d)\n",
    "        RDKitProp[d_key,9] = rdMolDescriptors.CalcNumHeteroatoms(mol3d)\n",
    "    df = pd.concat([df,pd.DataFrame(RDKitProp, columns=[f\"RDKit_{i}\" for i in range(10)])],axis=1)\n",
    "    return df\n",
    "train = gen_rdkit(train)\n",
    "test = gen_rdkit(test)"
   ],
   "outputs": [
    {
     "name": "stderr",
     "output_type": "stream",
     "text": [
      "[21:48:28] UFFTYPER: Unrecognized atom type: Se2+2 (24)\n",
      "[21:48:30] UFFTYPER: Unrecognized atom type: Se2+2 (31)\n",
      "[21:48:33] UFFTYPER: Unrecognized atom type: Se2+2 (23)\n"
     ]
    }
   ],
   "execution_count": 6
  },
  {
   "cell_type": "markdown",
   "id": "a6dc5f15",
   "metadata": {
    "papermill": {
     "duration": 0.003906,
     "end_time": "2025-03-27T08:39:06.313544",
     "exception": false,
     "start_time": "2025-03-27T08:39:06.309638",
     "status": "completed"
    },
    "tags": []
   },
   "source": [
    "## Fit model"
   ]
  },
  {
   "cell_type": "code",
   "id": "26b59be9",
   "metadata": {
    "execution": {
     "iopub.execute_input": "2025-03-27T08:39:06.323038Z",
     "iopub.status.busy": "2025-03-27T08:39:06.322681Z",
     "iopub.status.idle": "2025-03-27T08:39:06.346989Z",
     "shell.execute_reply": "2025-03-27T08:39:06.345971Z"
    },
    "papermill": {
     "duration": 0.030763,
     "end_time": "2025-03-27T08:39:06.348405",
     "exception": false,
     "start_time": "2025-03-27T08:39:06.317642",
     "status": "completed"
    },
    "tags": [],
    "ExecuteTime": {
     "end_time": "2025-04-17T13:48:45.695965Z",
     "start_time": "2025-04-17T13:48:45.674074Z"
    }
   },
   "source": [
    "train.head(3)"
   ],
   "outputs": [
    {
     "data": {
      "text/plain": [
       "   Batch_ID     T80                                             Smiles  \\\n",
       "0  Train-01  103.86             CCCCCCCCCCCCc1ccsc1-c1ccc(-c2cccs2)cc1   \n",
       "1  Train-02  101.13                        CCCCCCCCCCCCc1ccsc1-c1cccs1   \n",
       "2  Train-03   78.30  CN1CCN(S(=O)(=O)c2ccc(-c3ccc(-c4cccs4)cc3)cc2)CC1   \n",
       "\n",
       "      Mass  HAcceptors  HDonors    LogP  Asphericity        Rg   TPSA  ...  \\\n",
       "0  410.692           2        0  9.6070     0.301361  5.187321   0.00  ...   \n",
       "1  334.594           2        0  7.9400     0.367472  4.141425   0.00  ...   \n",
       "2  398.553           4        0  4.0182     0.799589  5.368024  40.62  ...   \n",
       "\n",
       "   RDKit_0  RDKit_1  RDKit_2  RDKit_3   RDKit_4   RDKit_5  RDKit_6  RDKit_7  \\\n",
       "0  410.692      2.0      0.0   9.6070  0.288412  4.995407     0.00      3.0   \n",
       "1  334.594      2.0      0.0   7.9400  0.678057  5.239837     0.00      2.0   \n",
       "2  398.553      4.0      0.0   4.0182  0.660557  5.000057    40.62      4.0   \n",
       "\n",
       "   RDKit_8  RDKit_9  \n",
       "0     14.0      2.0  \n",
       "1     13.0      2.0  \n",
       "2      5.0      6.0  \n",
       "\n",
       "[3 rows x 156 columns]"
      ],
      "text/html": [
       "<div>\n",
       "<style scoped>\n",
       "    .dataframe tbody tr th:only-of-type {\n",
       "        vertical-align: middle;\n",
       "    }\n",
       "\n",
       "    .dataframe tbody tr th {\n",
       "        vertical-align: top;\n",
       "    }\n",
       "\n",
       "    .dataframe thead th {\n",
       "        text-align: right;\n",
       "    }\n",
       "</style>\n",
       "<table border=\"1\" class=\"dataframe\">\n",
       "  <thead>\n",
       "    <tr style=\"text-align: right;\">\n",
       "      <th></th>\n",
       "      <th>Batch_ID</th>\n",
       "      <th>T80</th>\n",
       "      <th>Smiles</th>\n",
       "      <th>Mass</th>\n",
       "      <th>HAcceptors</th>\n",
       "      <th>HDonors</th>\n",
       "      <th>LogP</th>\n",
       "      <th>Asphericity</th>\n",
       "      <th>Rg</th>\n",
       "      <th>TPSA</th>\n",
       "      <th>...</th>\n",
       "      <th>RDKit_0</th>\n",
       "      <th>RDKit_1</th>\n",
       "      <th>RDKit_2</th>\n",
       "      <th>RDKit_3</th>\n",
       "      <th>RDKit_4</th>\n",
       "      <th>RDKit_5</th>\n",
       "      <th>RDKit_6</th>\n",
       "      <th>RDKit_7</th>\n",
       "      <th>RDKit_8</th>\n",
       "      <th>RDKit_9</th>\n",
       "    </tr>\n",
       "  </thead>\n",
       "  <tbody>\n",
       "    <tr>\n",
       "      <th>0</th>\n",
       "      <td>Train-01</td>\n",
       "      <td>103.86</td>\n",
       "      <td>CCCCCCCCCCCCc1ccsc1-c1ccc(-c2cccs2)cc1</td>\n",
       "      <td>410.692</td>\n",
       "      <td>2</td>\n",
       "      <td>0</td>\n",
       "      <td>9.6070</td>\n",
       "      <td>0.301361</td>\n",
       "      <td>5.187321</td>\n",
       "      <td>0.00</td>\n",
       "      <td>...</td>\n",
       "      <td>410.692</td>\n",
       "      <td>2.0</td>\n",
       "      <td>0.0</td>\n",
       "      <td>9.6070</td>\n",
       "      <td>0.288412</td>\n",
       "      <td>4.995407</td>\n",
       "      <td>0.00</td>\n",
       "      <td>3.0</td>\n",
       "      <td>14.0</td>\n",
       "      <td>2.0</td>\n",
       "    </tr>\n",
       "    <tr>\n",
       "      <th>1</th>\n",
       "      <td>Train-02</td>\n",
       "      <td>101.13</td>\n",
       "      <td>CCCCCCCCCCCCc1ccsc1-c1cccs1</td>\n",
       "      <td>334.594</td>\n",
       "      <td>2</td>\n",
       "      <td>0</td>\n",
       "      <td>7.9400</td>\n",
       "      <td>0.367472</td>\n",
       "      <td>4.141425</td>\n",
       "      <td>0.00</td>\n",
       "      <td>...</td>\n",
       "      <td>334.594</td>\n",
       "      <td>2.0</td>\n",
       "      <td>0.0</td>\n",
       "      <td>7.9400</td>\n",
       "      <td>0.678057</td>\n",
       "      <td>5.239837</td>\n",
       "      <td>0.00</td>\n",
       "      <td>2.0</td>\n",
       "      <td>13.0</td>\n",
       "      <td>2.0</td>\n",
       "    </tr>\n",
       "    <tr>\n",
       "      <th>2</th>\n",
       "      <td>Train-03</td>\n",
       "      <td>78.30</td>\n",
       "      <td>CN1CCN(S(=O)(=O)c2ccc(-c3ccc(-c4cccs4)cc3)cc2)CC1</td>\n",
       "      <td>398.553</td>\n",
       "      <td>4</td>\n",
       "      <td>0</td>\n",
       "      <td>4.0182</td>\n",
       "      <td>0.799589</td>\n",
       "      <td>5.368024</td>\n",
       "      <td>40.62</td>\n",
       "      <td>...</td>\n",
       "      <td>398.553</td>\n",
       "      <td>4.0</td>\n",
       "      <td>0.0</td>\n",
       "      <td>4.0182</td>\n",
       "      <td>0.660557</td>\n",
       "      <td>5.000057</td>\n",
       "      <td>40.62</td>\n",
       "      <td>4.0</td>\n",
       "      <td>5.0</td>\n",
       "      <td>6.0</td>\n",
       "    </tr>\n",
       "  </tbody>\n",
       "</table>\n",
       "<p>3 rows × 156 columns</p>\n",
       "</div>"
      ]
     },
     "execution_count": 7,
     "metadata": {},
     "output_type": "execute_result"
    }
   ],
   "execution_count": 7
  },
  {
   "cell_type": "code",
   "id": "4949732d",
   "metadata": {
    "execution": {
     "iopub.execute_input": "2025-03-27T08:39:06.358555Z",
     "iopub.status.busy": "2025-03-27T08:39:06.358175Z",
     "iopub.status.idle": "2025-03-27T08:39:06.363543Z",
     "shell.execute_reply": "2025-03-27T08:39:06.362594Z"
    },
    "papermill": {
     "duration": 0.012033,
     "end_time": "2025-03-27T08:39:06.365141",
     "exception": false,
     "start_time": "2025-03-27T08:39:06.353108",
     "status": "completed"
    },
    "tags": [],
    "ExecuteTime": {
     "end_time": "2025-04-17T10:07:37.178869Z",
     "start_time": "2025-04-17T10:07:37.170598Z"
    }
   },
   "source": [
    "X = train.iloc[:,3:]\n",
    "y = train['T80']\n",
    "X_test = test.iloc[:,3:]"
   ],
   "outputs": [],
   "execution_count": 9
  },
  {
   "cell_type": "code",
   "id": "c1bdcc23",
   "metadata": {
    "execution": {
     "iopub.execute_input": "2025-03-27T08:39:06.374884Z",
     "iopub.status.busy": "2025-03-27T08:39:06.374581Z",
     "iopub.status.idle": "2025-03-27T08:39:06.384037Z",
     "shell.execute_reply": "2025-03-27T08:39:06.383221Z"
    },
    "papermill": {
     "duration": 0.015798,
     "end_time": "2025-03-27T08:39:06.385506",
     "exception": false,
     "start_time": "2025-03-27T08:39:06.369708",
     "status": "completed"
    },
    "tags": [],
    "ExecuteTime": {
     "end_time": "2025-04-17T10:07:38.802001Z",
     "start_time": "2025-04-17T10:07:38.785494Z"
    }
   },
   "source": [
    "def reg(X):\n",
    "    t = X['T2'] * X['TDOS3.2'] * X['LUMOp1(eV)']\n",
    "    result = (\n",
    "        (X['T8'] - t) * (1.7020332667085079 * X['SDOS3.9'])\n",
    "        +\n",
    "        (\n",
    "            ((X['TDOS3.7'] - X['SDOS3.8'] - X['TDOS4.3'] - X['TDOS2.7'])\n",
    "             / ((X['T14'] / X['TDOS3.6']) + (0.8998248512734 - X['RDKit_8'])))\n",
    "            +\n",
    "            ((X['LUMO(eV)'] + t) * ((X['LUMO(eV)'] + t) - X['TDOS3.2']))\n",
    "        )\n",
    "    )\n",
    "    return result\n",
    "y_pred = reg(X)\n",
    "y_test = reg(X_test)"
   ],
   "outputs": [],
   "execution_count": 10
  },
  {
   "cell_type": "code",
   "id": "9b6f600b",
   "metadata": {
    "execution": {
     "iopub.execute_input": "2025-03-27T08:39:06.395458Z",
     "iopub.status.busy": "2025-03-27T08:39:06.395132Z",
     "iopub.status.idle": "2025-03-27T08:39:06.700650Z",
     "shell.execute_reply": "2025-03-27T08:39:06.699587Z"
    },
    "papermill": {
     "duration": 0.312485,
     "end_time": "2025-03-27T08:39:06.702464",
     "exception": false,
     "start_time": "2025-03-27T08:39:06.389979",
     "status": "completed"
    },
    "tags": [],
    "ExecuteTime": {
     "end_time": "2025-04-17T10:07:41.395431Z",
     "start_time": "2025-04-17T10:07:40.752861Z"
    }
   },
   "source": [
    "score=[]\n",
    "for i in range(len(y)):\n",
    "    score.append(mean_squared_log_error(y[i:i+1],y_pred[i:i+1])) \n",
    "import matplotlib.pyplot as plt\n",
    "plt.plot(score)\n",
    "print(\"the number of better predicted value:\",np.isclose(score, 0, atol=1e-2).sum())"
   ],
   "outputs": [
    {
     "name": "stdout",
     "output_type": "stream",
     "text": [
      "the number of better predicted value: 11\n"
     ]
    },
    {
     "data": {
      "text/plain": [
       "<Figure size 640x480 with 1 Axes>"
      ],
      "image/png": "[encoded data removed]"
     },
     "metadata": {},
     "output_type": "display_data"
    }
   ],
   "execution_count": 11
  },
  {
   "cell_type": "code",
   "id": "0133cc90",
   "metadata": {
    "execution": {
     "iopub.execute_input": "2025-03-27T08:39:06.714122Z",
     "iopub.status.busy": "2025-03-27T08:39:06.713753Z",
     "iopub.status.idle": "2025-03-27T08:39:06.720670Z",
     "shell.execute_reply": "2025-03-27T08:39:06.719696Z"
    },
    "papermill": {
     "duration": 0.014331,
     "end_time": "2025-03-27T08:39:06.722113",
     "exception": false,
     "start_time": "2025-03-27T08:39:06.707782",
     "status": "completed"
    },
    "tags": [],
    "ExecuteTime": {
     "end_time": "2025-04-17T10:07:44.707757Z",
     "start_time": "2025-04-17T10:07:44.682683Z"
    }
   },
   "source": [
    "#check LB\n",
    "mean_squared_log_error(y[-2:],y_pred[-2:])"
   ],
   "outputs": [
    {
     "data": {
      "text/plain": [
       "0.0006452394945189557"
      ]
     },
     "execution_count": 12,
     "metadata": {},
     "output_type": "execute_result"
    }
   ],
   "execution_count": 12
  },
  {
   "cell_type": "markdown",
   "id": "4058a24d",
   "metadata": {
    "papermill": {
     "duration": 0.004973,
     "end_time": "2025-03-27T08:39:06.732497",
     "exception": false,
     "start_time": "2025-03-27T08:39:06.727524",
     "status": "completed"
    },
    "tags": []
   },
   "source": [
    "## Submission"
   ]
  },
  {
   "cell_type": "code",
   "id": "1e97ae1b",
   "metadata": {
    "execution": {
     "iopub.execute_input": "2025-03-27T08:39:06.744083Z",
     "iopub.status.busy": "2025-03-27T08:39:06.743738Z",
     "iopub.status.idle": "2025-03-27T08:39:06.759552Z",
     "shell.execute_reply": "2025-03-27T08:39:06.758605Z"
    },
    "papermill": {
     "duration": 0.023774,
     "end_time": "2025-03-27T08:39:06.761355",
     "exception": false,
     "start_time": "2025-03-27T08:39:06.737581",
     "status": "completed"
    },
    "tags": [],
    "ExecuteTime": {
     "end_time": "2025-04-17T10:07:46.289087Z",
     "start_time": "2025-04-17T10:07:46.224458Z"
    }
   },
   "source": [
    "sub = pd.DataFrame({'Batch_ID': test.Batch_ID,\n",
    "                       'T80': np.clip(y_test,0,None)})\n",
    "sub.to_csv('submission.csv', index=False)\n",
    "sub.head(10)"
   ],
   "outputs": [
    {
     "data": {
      "text/plain": [
       "  Batch_ID        T80\n",
       "0  Test-01   9.376646\n",
       "1  Test-02  17.167608\n",
       "2  Test-03  20.412531\n",
       "3  Test-04  35.116611\n",
       "4  Test-05   9.255750\n",
       "5  Test-06  38.854258\n",
       "6  Test-07   0.000000\n",
       "7  Test-08   4.575606\n",
       "8  Test-09  20.844693"
      ],
      "text/html": [
       "<div>\n",
       "<style scoped>\n",
       "    .dataframe tbody tr th:only-of-type {\n",
       "        vertical-align: middle;\n",
       "    }\n",
       "\n",
       "    .dataframe tbody tr th {\n",
       "        vertical-align: top;\n",
       "    }\n",
       "\n",
       "    .dataframe thead th {\n",
       "        text-align: right;\n",
       "    }\n",
       "</style>\n",
       "<table border=\"1\" class=\"dataframe\">\n",
       "  <thead>\n",
       "    <tr style=\"text-align: right;\">\n",
       "      <th></th>\n",
       "      <th>Batch_ID</th>\n",
       "      <th>T80</th>\n",
       "    </tr>\n",
       "  </thead>\n",
       "  <tbody>\n",
       "    <tr>\n",
       "      <th>0</th>\n",
       "      <td>Test-01</td>\n",
       "      <td>9.376646</td>\n",
       "    </tr>\n",
       "    <tr>\n",
       "      <th>1</th>\n",
       "      <td>Test-02</td>\n",
       "      <td>17.167608</td>\n",
       "    </tr>\n",
       "    <tr>\n",
       "      <th>2</th>\n",
       "      <td>Test-03</td>\n",
       "      <td>20.412531</td>\n",
       "    </tr>\n",
       "    <tr>\n",
       "      <th>3</th>\n",
       "      <td>Test-04</td>\n",
       "      <td>35.116611</td>\n",
       "    </tr>\n",
       "    <tr>\n",
       "      <th>4</th>\n",
       "      <td>Test-05</td>\n",
       "      <td>9.255750</td>\n",
       "    </tr>\n",
       "    <tr>\n",
       "      <th>5</th>\n",
       "      <td>Test-06</td>\n",
       "      <td>38.854258</td>\n",
       "    </tr>\n",
       "    <tr>\n",
       "      <th>6</th>\n",
       "      <td>Test-07</td>\n",
       "      <td>0.000000</td>\n",
       "    </tr>\n",
       "    <tr>\n",
       "      <th>7</th>\n",
       "      <td>Test-08</td>\n",
       "      <td>4.575606</td>\n",
       "    </tr>\n",
       "    <tr>\n",
       "      <th>8</th>\n",
       "      <td>Test-09</td>\n",
       "      <td>20.844693</td>\n",
       "    </tr>\n",
       "  </tbody>\n",
       "</table>\n",
       "</div>"
      ]
     },
     "execution_count": 13,
     "metadata": {},
     "output_type": "execute_result"
    }
   ],
   "execution_count": 13
  }
 ],
 "metadata": {
  "kaggle": {
   "accelerator": "none",
   "dataSources": [
    {
     "databundleVersionId": 11467685,
     "sourceId": 90087,
     "sourceType": "competition"
    }
   ],
   "dockerImageVersionId": 30918,
   "isGpuEnabled": false,
   "isInternetEnabled": true,
   "language": "python",
   "sourceType": "notebook"
  },
  "kernelspec": {
   "display_name": "Python 3",
   "language": "python",
   "name": "python3"
  },
  "language_info": {
   "codemirror_mode": {
    "name": "ipython",
    "version": 3
   },
   "file_extension": ".py",
   "mimetype": "text/x-python",
   "name": "python",
   "nbconvert_exporter": "python",
   "pygments_lexer": "ipython3",
   "version": "3.10.12"
  },
  "papermill": {
   "default_parameters": {},
   "duration": 29.954922,
   "end_time": "2025-03-27T08:39:07.498632",
   "environment_variables": {},
   "exception": null,
   "input_path": "__notebook__.ipynb",
   "output_path": "__notebook__.ipynb",
   "parameters": {},
   "start_time": "2025-03-27T08:38:37.543710",
   "version": "2.6.0"
  }
 },
 "nbformat": 4,
 "nbformat_minor": 5
}
